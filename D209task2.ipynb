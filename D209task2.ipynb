{
 "cells": [
  {
   "cell_type": "code",
   "execution_count": 1,
   "metadata": {},
   "outputs": [],
   "source": [
    "import pandas as pd\n",
    "import numpy as np\n",
    "import scipy\n",
    "import matplotlib\n",
    "from scipy import stats\n",
    "import matplotlib.pyplot as plt\n",
    "import seaborn as sns\n",
    "import statsmodels.api as sm"
   ]
  },
  {
   "cell_type": "code",
   "execution_count": 2,
   "metadata": {},
   "outputs": [
    {
     "name": "stdout",
     "output_type": "stream",
     "text": [
      "pandas version 1.0.5\n",
      "numpy version 1.18.5\n",
      "scipy version 1.5.0\n",
      "matplotlib version 3.2.2\n",
      "seaborn version 0.10.1\n",
      "statsmodels version 0.11.1\n"
     ]
    }
   ],
   "source": [
    "print(\"pandas version \" + pd.__version__)\n",
    "print(\"numpy version \" + np.__version__)\n",
    "print(\"scipy version \" + scipy.__version__)\n",
    "print(\"matplotlib version \" + matplotlib.__version__)\n",
    "print(\"seaborn version \" + sns.__version__)\n",
    "print(\"statsmodels version \" + sm.__version__)"
   ]
  },
  {
   "cell_type": "code",
   "execution_count": 3,
   "metadata": {},
   "outputs": [],
   "source": [
    "df = pd.read_csv(r\"medical_clean.csv\")"
   ]
  },
  {
   "cell_type": "code",
   "execution_count": 4,
   "metadata": {},
   "outputs": [],
   "source": [
    "#pd.options.display.float_format = '{:,.6f}'.format\n",
    "pd.set_option('display.max_columns', None) #show all columns"
   ]
  },
  {
   "cell_type": "code",
   "execution_count": 5,
   "metadata": {},
   "outputs": [
    {
     "data": {
      "text/plain": [
       "No     6331\n",
       "Yes    3669\n",
       "Name: ReAdmis, dtype: int64"
      ]
     },
     "execution_count": 5,
     "metadata": {},
     "output_type": "execute_result"
    }
   ],
   "source": [
    "df['ReAdmis'].value_counts()"
   ]
  },
  {
   "cell_type": "code",
   "execution_count": 6,
   "metadata": {},
   "outputs": [
    {
     "data": {
      "text/plain": [
       "(10000, 50)"
      ]
     },
     "execution_count": 6,
     "metadata": {},
     "output_type": "execute_result"
    }
   ],
   "source": [
    "df.shape"
   ]
  },
  {
   "cell_type": "markdown",
   "metadata": {},
   "source": [
    "Some data Prep"
   ]
  },
  {
   "cell_type": "code",
   "execution_count": 7,
   "metadata": {},
   "outputs": [],
   "source": [
    "df['Initial_admin'] = df['Initial_admin'].str.replace(' Admission', '')\n",
    "df['Services'] = df['Services'].str.replace(' ', '_')\n",
    "df['Marital'] = df['Marital'].str.replace(' ','_')"
   ]
  },
  {
   "cell_type": "code",
   "execution_count": 8,
   "metadata": {},
   "outputs": [
    {
     "name": "stdout",
     "output_type": "stream",
     "text": [
      "122814\n"
     ]
    }
   ],
   "source": [
    "print(df.Population.max())"
   ]
  },
  {
   "cell_type": "code",
   "execution_count": 9,
   "metadata": {},
   "outputs": [
    {
     "data": {
      "image/png": "[encoded data removed]",
      "text/plain": [
       "<Figure size 432x288 with 1 Axes>"
      ]
     },
     "metadata": {},
     "output_type": "display_data"
    }
   ],
   "source": [
    "df['ReAdmis'].value_counts().plot.pie(autopct=\"%.1f%%\");\n",
    "plt.title(\"Readmission\", fontsize=14);"
   ]
  },
  {
   "cell_type": "code",
   "execution_count": 10,
   "metadata": {},
   "outputs": [
    {
     "data": {
      "text/html": [
       "<div>\n",
       "<style scoped>\n",
       "    .dataframe tbody tr th:only-of-type {\n",
       "        vertical-align: middle;\n",
       "    }\n",
       "\n",
       "    .dataframe tbody tr th {\n",
       "        vertical-align: top;\n",
       "    }\n",
       "\n",
       "    .dataframe thead th {\n",
       "        text-align: right;\n",
       "    }\n",
       "</style>\n",
       "<table border=\"1\" class=\"dataframe\">\n",
       "  <thead>\n",
       "    <tr style=\"text-align: right;\">\n",
       "      <th></th>\n",
       "      <th>CaseOrder</th>\n",
       "      <th>Zip</th>\n",
       "      <th>Lat</th>\n",
       "      <th>Lng</th>\n",
       "      <th>Population</th>\n",
       "      <th>Children</th>\n",
       "      <th>Age</th>\n",
       "      <th>Income</th>\n",
       "      <th>VitD_levels</th>\n",
       "      <th>Doc_visits</th>\n",
       "      <th>Full_meals_eaten</th>\n",
       "      <th>vitD_supp</th>\n",
       "      <th>Initial_days</th>\n",
       "      <th>TotalCharge</th>\n",
       "      <th>Additional_charges</th>\n",
       "      <th>Item1</th>\n",
       "      <th>Item2</th>\n",
       "      <th>Item3</th>\n",
       "      <th>Item4</th>\n",
       "      <th>Item5</th>\n",
       "      <th>Item6</th>\n",
       "      <th>Item7</th>\n",
       "      <th>Item8</th>\n",
       "    </tr>\n",
       "    <tr>\n",
       "      <th>ReAdmis</th>\n",
       "      <th></th>\n",
       "      <th></th>\n",
       "      <th></th>\n",
       "      <th></th>\n",
       "      <th></th>\n",
       "      <th></th>\n",
       "      <th></th>\n",
       "      <th></th>\n",
       "      <th></th>\n",
       "      <th></th>\n",
       "      <th></th>\n",
       "      <th></th>\n",
       "      <th></th>\n",
       "      <th></th>\n",
       "      <th></th>\n",
       "      <th></th>\n",
       "      <th></th>\n",
       "      <th></th>\n",
       "      <th></th>\n",
       "      <th></th>\n",
       "      <th></th>\n",
       "      <th></th>\n",
       "      <th></th>\n",
       "    </tr>\n",
       "  </thead>\n",
       "  <tbody>\n",
       "    <tr>\n",
       "      <th>No</th>\n",
       "      <td>3550.541779</td>\n",
       "      <td>49987.470700</td>\n",
       "      <td>38.810183</td>\n",
       "      <td>-91.228998</td>\n",
       "      <td>9739.104249</td>\n",
       "      <td>2.058443</td>\n",
       "      <td>53.263308</td>\n",
       "      <td>40740.257109</td>\n",
       "      <td>17.957993</td>\n",
       "      <td>5.012004</td>\n",
       "      <td>1.010741</td>\n",
       "      <td>0.393619</td>\n",
       "      <td>17.414699</td>\n",
       "      <td>3911.772150</td>\n",
       "      <td>12866.696031</td>\n",
       "      <td>3.531985</td>\n",
       "      <td>3.508608</td>\n",
       "      <td>3.520297</td>\n",
       "      <td>3.516664</td>\n",
       "      <td>3.492497</td>\n",
       "      <td>3.535776</td>\n",
       "      <td>3.497868</td>\n",
       "      <td>3.522982</td>\n",
       "    </tr>\n",
       "    <tr>\n",
       "      <th>Yes</th>\n",
       "      <td>7502.458436</td>\n",
       "      <td>50455.863178</td>\n",
       "      <td>38.649146</td>\n",
       "      <td>-91.267379</td>\n",
       "      <td>10355.483510</td>\n",
       "      <td>2.164077</td>\n",
       "      <td>53.940311</td>\n",
       "      <td>40059.521352</td>\n",
       "      <td>17.975079</td>\n",
       "      <td>5.012537</td>\n",
       "      <td>0.985282</td>\n",
       "      <td>0.408013</td>\n",
       "      <td>63.859507</td>\n",
       "      <td>7728.617663</td>\n",
       "      <td>13051.576261</td>\n",
       "      <td>3.496048</td>\n",
       "      <td>3.503407</td>\n",
       "      <td>3.495230</td>\n",
       "      <td>3.512401</td>\n",
       "      <td>3.504497</td>\n",
       "      <td>3.499591</td>\n",
       "      <td>3.487326</td>\n",
       "      <td>3.486781</td>\n",
       "    </tr>\n",
       "  </tbody>\n",
       "</table>\n",
       "</div>"
      ],
      "text/plain": [
       "           CaseOrder           Zip        Lat        Lng    Population  \\\n",
       "ReAdmis                                                                  \n",
       "No       3550.541779  49987.470700  38.810183 -91.228998   9739.104249   \n",
       "Yes      7502.458436  50455.863178  38.649146 -91.267379  10355.483510   \n",
       "\n",
       "         Children        Age        Income  VitD_levels  Doc_visits  \\\n",
       "ReAdmis                                                               \n",
       "No       2.058443  53.263308  40740.257109    17.957993    5.012004   \n",
       "Yes      2.164077  53.940311  40059.521352    17.975079    5.012537   \n",
       "\n",
       "         Full_meals_eaten  vitD_supp  Initial_days  TotalCharge  \\\n",
       "ReAdmis                                                           \n",
       "No               1.010741   0.393619     17.414699  3911.772150   \n",
       "Yes              0.985282   0.408013     63.859507  7728.617663   \n",
       "\n",
       "         Additional_charges     Item1     Item2     Item3     Item4     Item5  \\\n",
       "ReAdmis                                                                         \n",
       "No             12866.696031  3.531985  3.508608  3.520297  3.516664  3.492497   \n",
       "Yes            13051.576261  3.496048  3.503407  3.495230  3.512401  3.504497   \n",
       "\n",
       "            Item6     Item7     Item8  \n",
       "ReAdmis                                \n",
       "No       3.535776  3.497868  3.522982  \n",
       "Yes      3.499591  3.487326  3.486781  "
      ]
     },
     "execution_count": 10,
     "metadata": {},
     "output_type": "execute_result"
    }
   ],
   "source": [
    "df.groupby('ReAdmis').mean()"
   ]
  },
  {
   "cell_type": "code",
   "execution_count": 11,
   "metadata": {},
   "outputs": [],
   "source": [
    "df = df.drop(['CaseOrder', 'Customer_id', 'Interaction', 'UID', 'Zip',\n",
    "       'Lat', 'Lng', 'City', 'State','County','Job','Soft_drink'], axis = 1) \n"
   ]
  },
  {
   "cell_type": "code",
   "execution_count": 12,
   "metadata": {},
   "outputs": [],
   "source": [
    "df = df.dropna(subset=['TimeZone'])"
   ]
  },
  {
   "cell_type": "code",
   "execution_count": 13,
   "metadata": {},
   "outputs": [],
   "source": [
    "correl  = df.corr()"
   ]
  },
  {
   "cell_type": "code",
   "execution_count": 14,
   "metadata": {},
   "outputs": [
    {
     "data": {
      "text/plain": [
       "<matplotlib.axes._subplots.AxesSubplot at 0x17e4ab11c70>"
      ]
     },
     "execution_count": 14,
     "metadata": {},
     "output_type": "execute_result"
    },
    {
     "data": {
      "image/png": "[encoded data removed]",
      "text/plain": [
       "<Figure size 1080x1080 with 2 Axes>"
      ]
     },
     "metadata": {
      "needs_background": "light"
     },
     "output_type": "display_data"
    }
   ],
   "source": [
    "fig, ax = plt.subplots(figsize=(15,15))\n",
    "sns.heatmap(correl, xticklabels = correl.columns, yticklabels = correl.columns, cmap='RdBu')"
   ]
  },
  {
   "cell_type": "markdown",
   "metadata": {},
   "source": [
    "Standardize numerical and create dummy variables"
   ]
  },
  {
   "cell_type": "code",
   "execution_count": 15,
   "metadata": {},
   "outputs": [
    {
     "data": {
      "text/plain": [
       "(10000, 38)"
      ]
     },
     "execution_count": 15,
     "metadata": {},
     "output_type": "execute_result"
    }
   ],
   "source": [
    "df.shape"
   ]
  },
  {
   "cell_type": "code",
   "execution_count": 16,
   "metadata": {},
   "outputs": [
    {
     "data": {
      "text/html": [
       "<div>\n",
       "<style scoped>\n",
       "    .dataframe tbody tr th:only-of-type {\n",
       "        vertical-align: middle;\n",
       "    }\n",
       "\n",
       "    .dataframe tbody tr th {\n",
       "        vertical-align: top;\n",
       "    }\n",
       "\n",
       "    .dataframe thead th {\n",
       "        text-align: right;\n",
       "    }\n",
       "</style>\n",
       "<table border=\"1\" class=\"dataframe\">\n",
       "  <thead>\n",
       "    <tr style=\"text-align: right;\">\n",
       "      <th></th>\n",
       "      <th>Population</th>\n",
       "      <th>Area</th>\n",
       "      <th>TimeZone</th>\n",
       "      <th>Children</th>\n",
       "      <th>Age</th>\n",
       "      <th>Income</th>\n",
       "      <th>Marital</th>\n",
       "      <th>Gender</th>\n",
       "      <th>ReAdmis</th>\n",
       "      <th>VitD_levels</th>\n",
       "      <th>Doc_visits</th>\n",
       "      <th>Full_meals_eaten</th>\n",
       "      <th>vitD_supp</th>\n",
       "      <th>Initial_admin</th>\n",
       "      <th>HighBlood</th>\n",
       "      <th>Stroke</th>\n",
       "      <th>Complication_risk</th>\n",
       "      <th>Overweight</th>\n",
       "      <th>Arthritis</th>\n",
       "      <th>Diabetes</th>\n",
       "      <th>Hyperlipidemia</th>\n",
       "      <th>BackPain</th>\n",
       "      <th>Anxiety</th>\n",
       "      <th>Allergic_rhinitis</th>\n",
       "      <th>Reflux_esophagitis</th>\n",
       "      <th>Asthma</th>\n",
       "      <th>Services</th>\n",
       "      <th>Initial_days</th>\n",
       "      <th>TotalCharge</th>\n",
       "      <th>Additional_charges</th>\n",
       "      <th>Item1</th>\n",
       "      <th>Item2</th>\n",
       "      <th>Item3</th>\n",
       "      <th>Item4</th>\n",
       "      <th>Item5</th>\n",
       "      <th>Item6</th>\n",
       "      <th>Item7</th>\n",
       "      <th>Item8</th>\n",
       "    </tr>\n",
       "  </thead>\n",
       "  <tbody>\n",
       "    <tr>\n",
       "      <th>0</th>\n",
       "      <td>2951</td>\n",
       "      <td>Suburban</td>\n",
       "      <td>America/Chicago</td>\n",
       "      <td>1</td>\n",
       "      <td>53</td>\n",
       "      <td>86575.93</td>\n",
       "      <td>Divorced</td>\n",
       "      <td>Male</td>\n",
       "      <td>No</td>\n",
       "      <td>19.141466</td>\n",
       "      <td>6</td>\n",
       "      <td>0</td>\n",
       "      <td>0</td>\n",
       "      <td>Emergency</td>\n",
       "      <td>Yes</td>\n",
       "      <td>No</td>\n",
       "      <td>Medium</td>\n",
       "      <td>No</td>\n",
       "      <td>Yes</td>\n",
       "      <td>Yes</td>\n",
       "      <td>No</td>\n",
       "      <td>Yes</td>\n",
       "      <td>Yes</td>\n",
       "      <td>Yes</td>\n",
       "      <td>No</td>\n",
       "      <td>Yes</td>\n",
       "      <td>Blood_Work</td>\n",
       "      <td>10.585770</td>\n",
       "      <td>3726.702860</td>\n",
       "      <td>17939.403420</td>\n",
       "      <td>3</td>\n",
       "      <td>3</td>\n",
       "      <td>2</td>\n",
       "      <td>2</td>\n",
       "      <td>4</td>\n",
       "      <td>3</td>\n",
       "      <td>3</td>\n",
       "      <td>4</td>\n",
       "    </tr>\n",
       "    <tr>\n",
       "      <th>1</th>\n",
       "      <td>11303</td>\n",
       "      <td>Urban</td>\n",
       "      <td>America/Chicago</td>\n",
       "      <td>3</td>\n",
       "      <td>51</td>\n",
       "      <td>46805.99</td>\n",
       "      <td>Married</td>\n",
       "      <td>Female</td>\n",
       "      <td>No</td>\n",
       "      <td>18.940352</td>\n",
       "      <td>4</td>\n",
       "      <td>2</td>\n",
       "      <td>1</td>\n",
       "      <td>Emergency</td>\n",
       "      <td>Yes</td>\n",
       "      <td>No</td>\n",
       "      <td>High</td>\n",
       "      <td>Yes</td>\n",
       "      <td>No</td>\n",
       "      <td>No</td>\n",
       "      <td>No</td>\n",
       "      <td>No</td>\n",
       "      <td>No</td>\n",
       "      <td>No</td>\n",
       "      <td>Yes</td>\n",
       "      <td>No</td>\n",
       "      <td>Intravenous</td>\n",
       "      <td>15.129562</td>\n",
       "      <td>4193.190458</td>\n",
       "      <td>17612.998120</td>\n",
       "      <td>3</td>\n",
       "      <td>4</td>\n",
       "      <td>3</td>\n",
       "      <td>4</td>\n",
       "      <td>4</td>\n",
       "      <td>4</td>\n",
       "      <td>3</td>\n",
       "      <td>3</td>\n",
       "    </tr>\n",
       "    <tr>\n",
       "      <th>2</th>\n",
       "      <td>17125</td>\n",
       "      <td>Suburban</td>\n",
       "      <td>America/Chicago</td>\n",
       "      <td>3</td>\n",
       "      <td>53</td>\n",
       "      <td>14370.14</td>\n",
       "      <td>Widowed</td>\n",
       "      <td>Female</td>\n",
       "      <td>No</td>\n",
       "      <td>18.057507</td>\n",
       "      <td>4</td>\n",
       "      <td>1</td>\n",
       "      <td>0</td>\n",
       "      <td>Elective</td>\n",
       "      <td>Yes</td>\n",
       "      <td>No</td>\n",
       "      <td>Medium</td>\n",
       "      <td>Yes</td>\n",
       "      <td>No</td>\n",
       "      <td>Yes</td>\n",
       "      <td>No</td>\n",
       "      <td>No</td>\n",
       "      <td>No</td>\n",
       "      <td>No</td>\n",
       "      <td>No</td>\n",
       "      <td>No</td>\n",
       "      <td>Blood_Work</td>\n",
       "      <td>4.772177</td>\n",
       "      <td>2434.234222</td>\n",
       "      <td>17505.192460</td>\n",
       "      <td>2</td>\n",
       "      <td>4</td>\n",
       "      <td>4</td>\n",
       "      <td>4</td>\n",
       "      <td>3</td>\n",
       "      <td>4</td>\n",
       "      <td>3</td>\n",
       "      <td>3</td>\n",
       "    </tr>\n",
       "    <tr>\n",
       "      <th>3</th>\n",
       "      <td>2162</td>\n",
       "      <td>Suburban</td>\n",
       "      <td>America/Chicago</td>\n",
       "      <td>0</td>\n",
       "      <td>78</td>\n",
       "      <td>39741.49</td>\n",
       "      <td>Married</td>\n",
       "      <td>Male</td>\n",
       "      <td>No</td>\n",
       "      <td>16.576858</td>\n",
       "      <td>4</td>\n",
       "      <td>1</td>\n",
       "      <td>0</td>\n",
       "      <td>Elective</td>\n",
       "      <td>No</td>\n",
       "      <td>Yes</td>\n",
       "      <td>Medium</td>\n",
       "      <td>No</td>\n",
       "      <td>Yes</td>\n",
       "      <td>No</td>\n",
       "      <td>No</td>\n",
       "      <td>No</td>\n",
       "      <td>No</td>\n",
       "      <td>No</td>\n",
       "      <td>Yes</td>\n",
       "      <td>Yes</td>\n",
       "      <td>Blood_Work</td>\n",
       "      <td>1.714879</td>\n",
       "      <td>2127.830423</td>\n",
       "      <td>12993.437350</td>\n",
       "      <td>3</td>\n",
       "      <td>5</td>\n",
       "      <td>5</td>\n",
       "      <td>3</td>\n",
       "      <td>4</td>\n",
       "      <td>5</td>\n",
       "      <td>5</td>\n",
       "      <td>5</td>\n",
       "    </tr>\n",
       "    <tr>\n",
       "      <th>4</th>\n",
       "      <td>5287</td>\n",
       "      <td>Rural</td>\n",
       "      <td>America/New_York</td>\n",
       "      <td>1</td>\n",
       "      <td>22</td>\n",
       "      <td>1209.56</td>\n",
       "      <td>Widowed</td>\n",
       "      <td>Female</td>\n",
       "      <td>No</td>\n",
       "      <td>17.439069</td>\n",
       "      <td>5</td>\n",
       "      <td>0</td>\n",
       "      <td>2</td>\n",
       "      <td>Elective</td>\n",
       "      <td>No</td>\n",
       "      <td>No</td>\n",
       "      <td>Low</td>\n",
       "      <td>No</td>\n",
       "      <td>No</td>\n",
       "      <td>No</td>\n",
       "      <td>Yes</td>\n",
       "      <td>No</td>\n",
       "      <td>No</td>\n",
       "      <td>Yes</td>\n",
       "      <td>No</td>\n",
       "      <td>No</td>\n",
       "      <td>CT_Scan</td>\n",
       "      <td>1.254807</td>\n",
       "      <td>2113.073274</td>\n",
       "      <td>3716.525786</td>\n",
       "      <td>2</td>\n",
       "      <td>1</td>\n",
       "      <td>3</td>\n",
       "      <td>3</td>\n",
       "      <td>5</td>\n",
       "      <td>3</td>\n",
       "      <td>4</td>\n",
       "      <td>3</td>\n",
       "    </tr>\n",
       "  </tbody>\n",
       "</table>\n",
       "</div>"
      ],
      "text/plain": [
       "   Population      Area          TimeZone  Children  Age    Income   Marital  \\\n",
       "0        2951  Suburban   America/Chicago         1   53  86575.93  Divorced   \n",
       "1       11303     Urban   America/Chicago         3   51  46805.99   Married   \n",
       "2       17125  Suburban   America/Chicago         3   53  14370.14   Widowed   \n",
       "3        2162  Suburban   America/Chicago         0   78  39741.49   Married   \n",
       "4        5287     Rural  America/New_York         1   22   1209.56   Widowed   \n",
       "\n",
       "   Gender ReAdmis  VitD_levels  Doc_visits  Full_meals_eaten  vitD_supp  \\\n",
       "0    Male      No    19.141466           6                 0          0   \n",
       "1  Female      No    18.940352           4                 2          1   \n",
       "2  Female      No    18.057507           4                 1          0   \n",
       "3    Male      No    16.576858           4                 1          0   \n",
       "4  Female      No    17.439069           5                 0          2   \n",
       "\n",
       "  Initial_admin HighBlood Stroke Complication_risk Overweight Arthritis  \\\n",
       "0     Emergency       Yes     No            Medium         No       Yes   \n",
       "1     Emergency       Yes     No              High        Yes        No   \n",
       "2      Elective       Yes     No            Medium        Yes        No   \n",
       "3      Elective        No    Yes            Medium         No       Yes   \n",
       "4      Elective        No     No               Low         No        No   \n",
       "\n",
       "  Diabetes Hyperlipidemia BackPain Anxiety Allergic_rhinitis  \\\n",
       "0      Yes             No      Yes     Yes               Yes   \n",
       "1       No             No       No      No                No   \n",
       "2      Yes             No       No      No                No   \n",
       "3       No             No       No      No                No   \n",
       "4       No            Yes       No      No               Yes   \n",
       "\n",
       "  Reflux_esophagitis Asthma     Services  Initial_days  TotalCharge  \\\n",
       "0                 No    Yes   Blood_Work     10.585770  3726.702860   \n",
       "1                Yes     No  Intravenous     15.129562  4193.190458   \n",
       "2                 No     No   Blood_Work      4.772177  2434.234222   \n",
       "3                Yes    Yes   Blood_Work      1.714879  2127.830423   \n",
       "4                 No     No      CT_Scan      1.254807  2113.073274   \n",
       "\n",
       "   Additional_charges  Item1  Item2  Item3  Item4  Item5  Item6  Item7  Item8  \n",
       "0        17939.403420      3      3      2      2      4      3      3      4  \n",
       "1        17612.998120      3      4      3      4      4      4      3      3  \n",
       "2        17505.192460      2      4      4      4      3      4      3      3  \n",
       "3        12993.437350      3      5      5      3      4      5      5      5  \n",
       "4         3716.525786      2      1      3      3      5      3      4      3  "
      ]
     },
     "execution_count": 16,
     "metadata": {},
     "output_type": "execute_result"
    }
   ],
   "source": [
    "df.head()"
   ]
  },
  {
   "cell_type": "code",
   "execution_count": 17,
   "metadata": {},
   "outputs": [
    {
     "data": {
      "text/plain": [
       "(10000, 19)"
      ]
     },
     "execution_count": 17,
     "metadata": {},
     "output_type": "execute_result"
    }
   ],
   "source": [
    "categorical_data = df.select_dtypes(exclude=np.number)\n",
    "categorical_data.shape\n",
    "numerical_data = df.select_dtypes(include=np.number)\n",
    "numerical_data.shape"
   ]
  },
  {
   "cell_type": "code",
   "execution_count": 18,
   "metadata": {},
   "outputs": [
    {
     "data": {
      "text/plain": [
       "Index(['Area', 'TimeZone', 'Marital', 'Gender', 'ReAdmis', 'Initial_admin',\n",
       "       'HighBlood', 'Stroke', 'Complication_risk', 'Overweight', 'Arthritis',\n",
       "       'Diabetes', 'Hyperlipidemia', 'BackPain', 'Anxiety',\n",
       "       'Allergic_rhinitis', 'Reflux_esophagitis', 'Asthma', 'Services'],\n",
       "      dtype='object')"
      ]
     },
     "execution_count": 18,
     "metadata": {},
     "output_type": "execute_result"
    }
   ],
   "source": [
    "categorical_data.columns"
   ]
  },
  {
   "cell_type": "code",
   "execution_count": 19,
   "metadata": {},
   "outputs": [
    {
     "data": {
      "text/plain": [
       "Index(['Population', 'Children', 'Age', 'Income', 'VitD_levels', 'Doc_visits',\n",
       "       'Full_meals_eaten', 'vitD_supp', 'Initial_days', 'TotalCharge',\n",
       "       'Additional_charges', 'Item1', 'Item2', 'Item3', 'Item4', 'Item5',\n",
       "       'Item6', 'Item7', 'Item8'],\n",
       "      dtype='object')"
      ]
     },
     "execution_count": 19,
     "metadata": {},
     "output_type": "execute_result"
    }
   ],
   "source": [
    "numerical_data.columns"
   ]
  },
  {
   "cell_type": "code",
   "execution_count": 20,
   "metadata": {},
   "outputs": [
    {
     "data": {
      "text/html": [
       "<div>\n",
       "<style scoped>\n",
       "    .dataframe tbody tr th:only-of-type {\n",
       "        vertical-align: middle;\n",
       "    }\n",
       "\n",
       "    .dataframe tbody tr th {\n",
       "        vertical-align: top;\n",
       "    }\n",
       "\n",
       "    .dataframe thead th {\n",
       "        text-align: right;\n",
       "    }\n",
       "</style>\n",
       "<table border=\"1\" class=\"dataframe\">\n",
       "  <thead>\n",
       "    <tr style=\"text-align: right;\">\n",
       "      <th></th>\n",
       "      <th>Population</th>\n",
       "      <th>Children</th>\n",
       "      <th>Age</th>\n",
       "      <th>Income</th>\n",
       "      <th>VitD_levels</th>\n",
       "      <th>Doc_visits</th>\n",
       "      <th>Full_meals_eaten</th>\n",
       "      <th>vitD_supp</th>\n",
       "      <th>Initial_days</th>\n",
       "      <th>TotalCharge</th>\n",
       "      <th>Additional_charges</th>\n",
       "      <th>Item1</th>\n",
       "      <th>Item2</th>\n",
       "      <th>Item3</th>\n",
       "      <th>Item4</th>\n",
       "      <th>Item5</th>\n",
       "      <th>Item6</th>\n",
       "      <th>Item7</th>\n",
       "      <th>Item8</th>\n",
       "    </tr>\n",
       "  </thead>\n",
       "  <tbody>\n",
       "    <tr>\n",
       "      <th>0</th>\n",
       "      <td>2951</td>\n",
       "      <td>1</td>\n",
       "      <td>53</td>\n",
       "      <td>86575.93</td>\n",
       "      <td>19.141466</td>\n",
       "      <td>6</td>\n",
       "      <td>0</td>\n",
       "      <td>0</td>\n",
       "      <td>10.585770</td>\n",
       "      <td>3726.702860</td>\n",
       "      <td>17939.403420</td>\n",
       "      <td>3</td>\n",
       "      <td>3</td>\n",
       "      <td>2</td>\n",
       "      <td>2</td>\n",
       "      <td>4</td>\n",
       "      <td>3</td>\n",
       "      <td>3</td>\n",
       "      <td>4</td>\n",
       "    </tr>\n",
       "    <tr>\n",
       "      <th>1</th>\n",
       "      <td>11303</td>\n",
       "      <td>3</td>\n",
       "      <td>51</td>\n",
       "      <td>46805.99</td>\n",
       "      <td>18.940352</td>\n",
       "      <td>4</td>\n",
       "      <td>2</td>\n",
       "      <td>1</td>\n",
       "      <td>15.129562</td>\n",
       "      <td>4193.190458</td>\n",
       "      <td>17612.998120</td>\n",
       "      <td>3</td>\n",
       "      <td>4</td>\n",
       "      <td>3</td>\n",
       "      <td>4</td>\n",
       "      <td>4</td>\n",
       "      <td>4</td>\n",
       "      <td>3</td>\n",
       "      <td>3</td>\n",
       "    </tr>\n",
       "    <tr>\n",
       "      <th>2</th>\n",
       "      <td>17125</td>\n",
       "      <td>3</td>\n",
       "      <td>53</td>\n",
       "      <td>14370.14</td>\n",
       "      <td>18.057507</td>\n",
       "      <td>4</td>\n",
       "      <td>1</td>\n",
       "      <td>0</td>\n",
       "      <td>4.772177</td>\n",
       "      <td>2434.234222</td>\n",
       "      <td>17505.192460</td>\n",
       "      <td>2</td>\n",
       "      <td>4</td>\n",
       "      <td>4</td>\n",
       "      <td>4</td>\n",
       "      <td>3</td>\n",
       "      <td>4</td>\n",
       "      <td>3</td>\n",
       "      <td>3</td>\n",
       "    </tr>\n",
       "    <tr>\n",
       "      <th>3</th>\n",
       "      <td>2162</td>\n",
       "      <td>0</td>\n",
       "      <td>78</td>\n",
       "      <td>39741.49</td>\n",
       "      <td>16.576858</td>\n",
       "      <td>4</td>\n",
       "      <td>1</td>\n",
       "      <td>0</td>\n",
       "      <td>1.714879</td>\n",
       "      <td>2127.830423</td>\n",
       "      <td>12993.437350</td>\n",
       "      <td>3</td>\n",
       "      <td>5</td>\n",
       "      <td>5</td>\n",
       "      <td>3</td>\n",
       "      <td>4</td>\n",
       "      <td>5</td>\n",
       "      <td>5</td>\n",
       "      <td>5</td>\n",
       "    </tr>\n",
       "    <tr>\n",
       "      <th>4</th>\n",
       "      <td>5287</td>\n",
       "      <td>1</td>\n",
       "      <td>22</td>\n",
       "      <td>1209.56</td>\n",
       "      <td>17.439069</td>\n",
       "      <td>5</td>\n",
       "      <td>0</td>\n",
       "      <td>2</td>\n",
       "      <td>1.254807</td>\n",
       "      <td>2113.073274</td>\n",
       "      <td>3716.525786</td>\n",
       "      <td>2</td>\n",
       "      <td>1</td>\n",
       "      <td>3</td>\n",
       "      <td>3</td>\n",
       "      <td>5</td>\n",
       "      <td>3</td>\n",
       "      <td>4</td>\n",
       "      <td>3</td>\n",
       "    </tr>\n",
       "  </tbody>\n",
       "</table>\n",
       "</div>"
      ],
      "text/plain": [
       "   Population  Children  Age    Income  VitD_levels  Doc_visits  \\\n",
       "0        2951         1   53  86575.93    19.141466           6   \n",
       "1       11303         3   51  46805.99    18.940352           4   \n",
       "2       17125         3   53  14370.14    18.057507           4   \n",
       "3        2162         0   78  39741.49    16.576858           4   \n",
       "4        5287         1   22   1209.56    17.439069           5   \n",
       "\n",
       "   Full_meals_eaten  vitD_supp  Initial_days  TotalCharge  Additional_charges  \\\n",
       "0                 0          0     10.585770  3726.702860        17939.403420   \n",
       "1                 2          1     15.129562  4193.190458        17612.998120   \n",
       "2                 1          0      4.772177  2434.234222        17505.192460   \n",
       "3                 1          0      1.714879  2127.830423        12993.437350   \n",
       "4                 0          2      1.254807  2113.073274         3716.525786   \n",
       "\n",
       "   Item1  Item2  Item3  Item4  Item5  Item6  Item7  Item8  \n",
       "0      3      3      2      2      4      3      3      4  \n",
       "1      3      4      3      4      4      4      3      3  \n",
       "2      2      4      4      4      3      4      3      3  \n",
       "3      3      5      5      3      4      5      5      5  \n",
       "4      2      1      3      3      5      3      4      3  "
      ]
     },
     "execution_count": 20,
     "metadata": {},
     "output_type": "execute_result"
    }
   ],
   "source": [
    "numerical_data.head(5)"
   ]
  },
  {
   "cell_type": "code",
   "execution_count": 21,
   "metadata": {},
   "outputs": [
    {
     "data": {
      "text/plain": [
       "(10000, 38)"
      ]
     },
     "execution_count": 21,
     "metadata": {},
     "output_type": "execute_result"
    }
   ],
   "source": [
    "df.shape"
   ]
  },
  {
   "cell_type": "code",
   "execution_count": 22,
   "metadata": {},
   "outputs": [
    {
     "data": {
      "text/plain": [
       "(10000, 19)"
      ]
     },
     "execution_count": 22,
     "metadata": {},
     "output_type": "execute_result"
    }
   ],
   "source": [
    "numerical_data = df.select_dtypes(include=np.number)\n",
    "numerical_data.shape"
   ]
  },
  {
   "cell_type": "markdown",
   "metadata": {},
   "source": [
    "Standardizing the data."
   ]
  },
  {
   "cell_type": "code",
   "execution_count": 23,
   "metadata": {},
   "outputs": [],
   "source": [
    "from sklearn.preprocessing import StandardScaler\n",
    "from sklearn import preprocessing\n",
    "\n",
    "num_cols = df.columns[df.dtypes.apply(lambda c: np.issubdtype(c, np.number))]\n",
    "# https://stackoverflow.com/questions/48673402/how-can-i-standardize-only-numeric-variables-in-an-sklearn-pipeline\n",
    "\n",
    "# Create the Scaler object\n",
    "# reA = pd.Series(df['ReAdmis']\n",
    "# st_df = numerical_data\n",
    "scaler = StandardScaler()\n",
    "\n",
    "# scaled_df = scaler.fit_transform(st_df)\n",
    "\n",
    "df[num_cols] = scaler.fit_transform(df[num_cols])\n",
    "#df.select_dtypes(include=np.number)"
   ]
  },
  {
   "cell_type": "code",
   "execution_count": 24,
   "metadata": {},
   "outputs": [
    {
     "data": {
      "text/html": [
       "<div>\n",
       "<style scoped>\n",
       "    .dataframe tbody tr th:only-of-type {\n",
       "        vertical-align: middle;\n",
       "    }\n",
       "\n",
       "    .dataframe tbody tr th {\n",
       "        vertical-align: top;\n",
       "    }\n",
       "\n",
       "    .dataframe thead th {\n",
       "        text-align: right;\n",
       "    }\n",
       "</style>\n",
       "<table border=\"1\" class=\"dataframe\">\n",
       "  <thead>\n",
       "    <tr style=\"text-align: right;\">\n",
       "      <th></th>\n",
       "      <th>Population</th>\n",
       "      <th>Area</th>\n",
       "      <th>TimeZone</th>\n",
       "      <th>Children</th>\n",
       "      <th>Age</th>\n",
       "      <th>Income</th>\n",
       "      <th>Marital</th>\n",
       "      <th>Gender</th>\n",
       "      <th>ReAdmis</th>\n",
       "      <th>VitD_levels</th>\n",
       "      <th>Doc_visits</th>\n",
       "      <th>Full_meals_eaten</th>\n",
       "      <th>vitD_supp</th>\n",
       "      <th>Initial_admin</th>\n",
       "      <th>HighBlood</th>\n",
       "      <th>Stroke</th>\n",
       "      <th>Complication_risk</th>\n",
       "      <th>Overweight</th>\n",
       "      <th>Arthritis</th>\n",
       "      <th>Diabetes</th>\n",
       "      <th>Hyperlipidemia</th>\n",
       "      <th>BackPain</th>\n",
       "      <th>Anxiety</th>\n",
       "      <th>Allergic_rhinitis</th>\n",
       "      <th>Reflux_esophagitis</th>\n",
       "      <th>Asthma</th>\n",
       "      <th>Services</th>\n",
       "      <th>Initial_days</th>\n",
       "      <th>TotalCharge</th>\n",
       "      <th>Additional_charges</th>\n",
       "      <th>Item1</th>\n",
       "      <th>Item2</th>\n",
       "      <th>Item3</th>\n",
       "      <th>Item4</th>\n",
       "      <th>Item5</th>\n",
       "      <th>Item6</th>\n",
       "      <th>Item7</th>\n",
       "      <th>Item8</th>\n",
       "    </tr>\n",
       "  </thead>\n",
       "  <tbody>\n",
       "    <tr>\n",
       "      <th>0</th>\n",
       "      <td>-0.473168</td>\n",
       "      <td>Suburban</td>\n",
       "      <td>America/Chicago</td>\n",
       "      <td>-0.507129</td>\n",
       "      <td>-0.024795</td>\n",
       "      <td>1.615914</td>\n",
       "      <td>Divorced</td>\n",
       "      <td>Male</td>\n",
       "      <td>No</td>\n",
       "      <td>0.583603</td>\n",
       "      <td>0.944647</td>\n",
       "      <td>-0.993387</td>\n",
       "      <td>-0.634713</td>\n",
       "      <td>Emergency</td>\n",
       "      <td>Yes</td>\n",
       "      <td>No</td>\n",
       "      <td>Medium</td>\n",
       "      <td>No</td>\n",
       "      <td>Yes</td>\n",
       "      <td>Yes</td>\n",
       "      <td>No</td>\n",
       "      <td>Yes</td>\n",
       "      <td>Yes</td>\n",
       "      <td>Yes</td>\n",
       "      <td>No</td>\n",
       "      <td>Yes</td>\n",
       "      <td>Blood_Work</td>\n",
       "      <td>-0.907310</td>\n",
       "      <td>-0.727185</td>\n",
       "      <td>0.765005</td>\n",
       "      <td>-0.502755</td>\n",
       "      <td>-0.489673</td>\n",
       "      <td>-1.463247</td>\n",
       "      <td>-1.462128</td>\n",
       "      <td>0.488380</td>\n",
       "      <td>-0.506139</td>\n",
       "      <td>-0.483672</td>\n",
       "      <td>0.470420</td>\n",
       "    </tr>\n",
       "    <tr>\n",
       "      <th>1</th>\n",
       "      <td>0.090242</td>\n",
       "      <td>Urban</td>\n",
       "      <td>America/Chicago</td>\n",
       "      <td>0.417277</td>\n",
       "      <td>-0.121706</td>\n",
       "      <td>0.221443</td>\n",
       "      <td>Married</td>\n",
       "      <td>Female</td>\n",
       "      <td>No</td>\n",
       "      <td>0.483901</td>\n",
       "      <td>-0.967981</td>\n",
       "      <td>0.990609</td>\n",
       "      <td>0.956445</td>\n",
       "      <td>Emergency</td>\n",
       "      <td>Yes</td>\n",
       "      <td>No</td>\n",
       "      <td>High</td>\n",
       "      <td>Yes</td>\n",
       "      <td>No</td>\n",
       "      <td>No</td>\n",
       "      <td>No</td>\n",
       "      <td>No</td>\n",
       "      <td>No</td>\n",
       "      <td>No</td>\n",
       "      <td>Yes</td>\n",
       "      <td>No</td>\n",
       "      <td>Intravenous</td>\n",
       "      <td>-0.734595</td>\n",
       "      <td>-0.513228</td>\n",
       "      <td>0.715114</td>\n",
       "      <td>-0.502755</td>\n",
       "      <td>0.476723</td>\n",
       "      <td>-0.494914</td>\n",
       "      <td>0.467946</td>\n",
       "      <td>0.488380</td>\n",
       "      <td>0.462548</td>\n",
       "      <td>-0.483672</td>\n",
       "      <td>-0.489033</td>\n",
       "    </tr>\n",
       "    <tr>\n",
       "      <th>2</th>\n",
       "      <td>0.482983</td>\n",
       "      <td>Suburban</td>\n",
       "      <td>America/Chicago</td>\n",
       "      <td>0.417277</td>\n",
       "      <td>-0.024795</td>\n",
       "      <td>-0.915870</td>\n",
       "      <td>Widowed</td>\n",
       "      <td>Female</td>\n",
       "      <td>No</td>\n",
       "      <td>0.046227</td>\n",
       "      <td>-0.967981</td>\n",
       "      <td>-0.001389</td>\n",
       "      <td>-0.634713</td>\n",
       "      <td>Elective</td>\n",
       "      <td>Yes</td>\n",
       "      <td>No</td>\n",
       "      <td>Medium</td>\n",
       "      <td>Yes</td>\n",
       "      <td>No</td>\n",
       "      <td>Yes</td>\n",
       "      <td>No</td>\n",
       "      <td>No</td>\n",
       "      <td>No</td>\n",
       "      <td>No</td>\n",
       "      <td>No</td>\n",
       "      <td>No</td>\n",
       "      <td>Blood_Work</td>\n",
       "      <td>-1.128292</td>\n",
       "      <td>-1.319983</td>\n",
       "      <td>0.698635</td>\n",
       "      <td>-1.471828</td>\n",
       "      <td>0.476723</td>\n",
       "      <td>0.473418</td>\n",
       "      <td>0.467946</td>\n",
       "      <td>-0.482361</td>\n",
       "      <td>0.462548</td>\n",
       "      <td>-0.483672</td>\n",
       "      <td>-0.489033</td>\n",
       "    </tr>\n",
       "    <tr>\n",
       "      <th>3</th>\n",
       "      <td>-0.526393</td>\n",
       "      <td>Suburban</td>\n",
       "      <td>America/Chicago</td>\n",
       "      <td>-0.969332</td>\n",
       "      <td>1.186592</td>\n",
       "      <td>-0.026263</td>\n",
       "      <td>Married</td>\n",
       "      <td>Male</td>\n",
       "      <td>No</td>\n",
       "      <td>-0.687811</td>\n",
       "      <td>-0.967981</td>\n",
       "      <td>-0.001389</td>\n",
       "      <td>-0.634713</td>\n",
       "      <td>Elective</td>\n",
       "      <td>No</td>\n",
       "      <td>Yes</td>\n",
       "      <td>Medium</td>\n",
       "      <td>No</td>\n",
       "      <td>Yes</td>\n",
       "      <td>No</td>\n",
       "      <td>No</td>\n",
       "      <td>No</td>\n",
       "      <td>No</td>\n",
       "      <td>No</td>\n",
       "      <td>Yes</td>\n",
       "      <td>Yes</td>\n",
       "      <td>Blood_Work</td>\n",
       "      <td>-1.244503</td>\n",
       "      <td>-1.460517</td>\n",
       "      <td>0.009004</td>\n",
       "      <td>-0.502755</td>\n",
       "      <td>1.443118</td>\n",
       "      <td>1.441750</td>\n",
       "      <td>-0.497091</td>\n",
       "      <td>0.488380</td>\n",
       "      <td>1.431236</td>\n",
       "      <td>1.474513</td>\n",
       "      <td>1.429874</td>\n",
       "    </tr>\n",
       "    <tr>\n",
       "      <th>4</th>\n",
       "      <td>-0.315586</td>\n",
       "      <td>Rural</td>\n",
       "      <td>America/New_York</td>\n",
       "      <td>-0.507129</td>\n",
       "      <td>-1.526914</td>\n",
       "      <td>-1.377325</td>\n",
       "      <td>Widowed</td>\n",
       "      <td>Female</td>\n",
       "      <td>No</td>\n",
       "      <td>-0.260366</td>\n",
       "      <td>-0.011667</td>\n",
       "      <td>-0.993387</td>\n",
       "      <td>2.547602</td>\n",
       "      <td>Elective</td>\n",
       "      <td>No</td>\n",
       "      <td>No</td>\n",
       "      <td>Low</td>\n",
       "      <td>No</td>\n",
       "      <td>No</td>\n",
       "      <td>No</td>\n",
       "      <td>Yes</td>\n",
       "      <td>No</td>\n",
       "      <td>No</td>\n",
       "      <td>Yes</td>\n",
       "      <td>No</td>\n",
       "      <td>No</td>\n",
       "      <td>CT_Scan</td>\n",
       "      <td>-1.261991</td>\n",
       "      <td>-1.467285</td>\n",
       "      <td>-1.408991</td>\n",
       "      <td>-1.471828</td>\n",
       "      <td>-2.422464</td>\n",
       "      <td>-0.494914</td>\n",
       "      <td>-0.497091</td>\n",
       "      <td>1.459121</td>\n",
       "      <td>-0.506139</td>\n",
       "      <td>0.495421</td>\n",
       "      <td>-0.489033</td>\n",
       "    </tr>\n",
       "  </tbody>\n",
       "</table>\n",
       "</div>"
      ],
      "text/plain": [
       "   Population      Area          TimeZone  Children       Age    Income  \\\n",
       "0   -0.473168  Suburban   America/Chicago -0.507129 -0.024795  1.615914   \n",
       "1    0.090242     Urban   America/Chicago  0.417277 -0.121706  0.221443   \n",
       "2    0.482983  Suburban   America/Chicago  0.417277 -0.024795 -0.915870   \n",
       "3   -0.526393  Suburban   America/Chicago -0.969332  1.186592 -0.026263   \n",
       "4   -0.315586     Rural  America/New_York -0.507129 -1.526914 -1.377325   \n",
       "\n",
       "    Marital  Gender ReAdmis  VitD_levels  Doc_visits  Full_meals_eaten  \\\n",
       "0  Divorced    Male      No     0.583603    0.944647         -0.993387   \n",
       "1   Married  Female      No     0.483901   -0.967981          0.990609   \n",
       "2   Widowed  Female      No     0.046227   -0.967981         -0.001389   \n",
       "3   Married    Male      No    -0.687811   -0.967981         -0.001389   \n",
       "4   Widowed  Female      No    -0.260366   -0.011667         -0.993387   \n",
       "\n",
       "   vitD_supp Initial_admin HighBlood Stroke Complication_risk Overweight  \\\n",
       "0  -0.634713     Emergency       Yes     No            Medium         No   \n",
       "1   0.956445     Emergency       Yes     No              High        Yes   \n",
       "2  -0.634713      Elective       Yes     No            Medium        Yes   \n",
       "3  -0.634713      Elective        No    Yes            Medium         No   \n",
       "4   2.547602      Elective        No     No               Low         No   \n",
       "\n",
       "  Arthritis Diabetes Hyperlipidemia BackPain Anxiety Allergic_rhinitis  \\\n",
       "0       Yes      Yes             No      Yes     Yes               Yes   \n",
       "1        No       No             No       No      No                No   \n",
       "2        No      Yes             No       No      No                No   \n",
       "3       Yes       No             No       No      No                No   \n",
       "4        No       No            Yes       No      No               Yes   \n",
       "\n",
       "  Reflux_esophagitis Asthma     Services  Initial_days  TotalCharge  \\\n",
       "0                 No    Yes   Blood_Work     -0.907310    -0.727185   \n",
       "1                Yes     No  Intravenous     -0.734595    -0.513228   \n",
       "2                 No     No   Blood_Work     -1.128292    -1.319983   \n",
       "3                Yes    Yes   Blood_Work     -1.244503    -1.460517   \n",
       "4                 No     No      CT_Scan     -1.261991    -1.467285   \n",
       "\n",
       "   Additional_charges     Item1     Item2     Item3     Item4     Item5  \\\n",
       "0            0.765005 -0.502755 -0.489673 -1.463247 -1.462128  0.488380   \n",
       "1            0.715114 -0.502755  0.476723 -0.494914  0.467946  0.488380   \n",
       "2            0.698635 -1.471828  0.476723  0.473418  0.467946 -0.482361   \n",
       "3            0.009004 -0.502755  1.443118  1.441750 -0.497091  0.488380   \n",
       "4           -1.408991 -1.471828 -2.422464 -0.494914 -0.497091  1.459121   \n",
       "\n",
       "      Item6     Item7     Item8  \n",
       "0 -0.506139 -0.483672  0.470420  \n",
       "1  0.462548 -0.483672 -0.489033  \n",
       "2  0.462548 -0.483672 -0.489033  \n",
       "3  1.431236  1.474513  1.429874  \n",
       "4 -0.506139  0.495421 -0.489033  "
      ]
     },
     "execution_count": 24,
     "metadata": {},
     "output_type": "execute_result"
    }
   ],
   "source": [
    "df.head(5)"
   ]
  },
  {
   "cell_type": "code",
   "execution_count": 25,
   "metadata": {},
   "outputs": [],
   "source": [
    "df = pd.concat([df, pd.get_dummies(df['Area'], prefix='Area' , drop_first=False)], axis=1)\n",
    "df = pd.concat([df, pd.get_dummies(df['Marital'], prefix='Marital', drop_first=False)], axis=1)\n",
    "df = pd.concat([df, pd.get_dummies(df['Gender'], prefix='Gender', drop_first=False)], axis=1)\n",
    "df = pd.concat([df, pd.get_dummies(df['Initial_admin'], prefix='Initial_admin', drop_first=False)], axis=1)\n",
    "df = pd.concat([df, pd.get_dummies(df['Complication_risk'], prefix='Complication_risk', drop_first=False)], axis=1)\n",
    "df = pd.concat([df, pd.get_dummies(df['Services'], prefix='Services', drop_first=False)], axis=1)\n",
    "\n",
    "# df = pd.concat([df, pd.get_dummies(df['HighBlood'], prefix='HighBlood', drop_first=False)], axis=1)\n",
    "# df = pd.concat([df, pd.get_dummies(df['Stroke'], prefix='Stroke', drop_first=False)], axis=1)\n",
    "# df = pd.concat([df, pd.get_dummies(df['Overweight'], prefix='Overweight', drop_first=False)], axis=1)\n",
    "# df = pd.concat([df, pd.get_dummies(df['Arthritis'], prefix='Arthitis, drop_first=False)], axis=1)\n",
    "# df = pd.concat([df, pd.get_dummies(df['Hyperlipidemia'], prefix='Hyperlipidemia', drop_first=False)], axis=1)\n",
    "# df = pd.concat([df, pd.get_dummies(df['BackPain'], prefix='BackPain', drop_first=False)], axis=1)\n",
    "# df = pd.concat([df, pd.get_dummies(df['Anxiety'], prefix='Anxiety', drop_first=False)], axis=1)\n",
    "# df = pd.concat([df, pd.get_dummies(df['Allergic_rhinitis'], prefix='Allergic_rhinitis', drop_first=False)], axis=1)\n",
    "# df = pd.concat([df, pd.get_dummies(df['Reflux_esophagitis'], prefix='Reflux_esophagitis', drop_first=False)], axis=1)\n",
    "# df = pd.concat([df, pd.get_dummies(df['Asthma'], prefix='Asthma', drop_first=False)], axis=1)\n",
    "\n",
    "#df = pd.concat([df, pd.get_dummies(df['ReAdmis'], prefix='ReAdmis', drop_first=False)], axis=1)\n",
    "#, drop_first=True\n",
    "\n",
    "#for KNN, create K dummies instead of K-1\n",
    "# (https://www.listendata.com/2017/12/k-nearest-neighbor-step-by-step-tutorial.html)"
   ]
  },
  {
   "cell_type": "code",
   "execution_count": 26,
   "metadata": {},
   "outputs": [],
   "source": [
    "#now that these varibles have been one hot encoded, the orignals can be deleted\n",
    "df.drop(['Area'],axis=1, inplace=True)\n",
    "df.drop(['Marital'],axis=1, inplace=True)\n",
    "df.drop(['Gender'],axis=1, inplace=True)\n",
    "df.drop(['Initial_admin'],axis=1, inplace=True)\n",
    "df.drop(['Complication_risk'],axis=1, inplace=True)\n",
    "df.drop(['Services'],axis=1, inplace=True)\n",
    "df.drop(['TimeZone'], axis=1, inplace=True)\n",
    "#df.drop(['ReAdmis'], axis=1, inplace=True)"
   ]
  },
  {
   "cell_type": "code",
   "execution_count": 27,
   "metadata": {},
   "outputs": [],
   "source": [
    "#these variables only have two possible values and can be encoded as 1 or 0\n",
    "df['ReAdmis']=df.ReAdmis.map(dict(Yes=1, No=0))\n",
    "df['HighBlood']=df.HighBlood.map(dict(Yes=1, No=0))\n",
    "df['Stroke']=df.Stroke.map(dict(Yes=1, No=0))\n",
    "df['Overweight']=df.Overweight.map(dict(Yes=1, No=0))\n",
    "df['Arthritis']=df.Arthritis.map(dict(Yes=1, No=0))\n",
    "df['Diabetes']=df.Diabetes.map(dict(Yes=1, No=0))\n",
    "df['Hyperlipidemia']=df.Hyperlipidemia.map(dict(Yes=1, No=0))\n",
    "df['BackPain']=df.BackPain.map(dict(Yes=1, No=0))\n",
    "df['Anxiety']=df.Anxiety.map(dict(Yes=1, No=0))\n",
    "df['Allergic_rhinitis']=df.Allergic_rhinitis.map(dict(Yes=1, No=0))\n",
    "df['Reflux_esophagitis']=df.Reflux_esophagitis.map(dict(Yes=1, No=0))\n",
    "df['Asthma']=df.Asthma.map(dict(Yes=1, No=0))"
   ]
  },
  {
   "cell_type": "code",
   "execution_count": 28,
   "metadata": {},
   "outputs": [
    {
     "data": {
      "text/html": [
       "<div>\n",
       "<style scoped>\n",
       "    .dataframe tbody tr th:only-of-type {\n",
       "        vertical-align: middle;\n",
       "    }\n",
       "\n",
       "    .dataframe tbody tr th {\n",
       "        vertical-align: top;\n",
       "    }\n",
       "\n",
       "    .dataframe thead th {\n",
       "        text-align: right;\n",
       "    }\n",
       "</style>\n",
       "<table border=\"1\" class=\"dataframe\">\n",
       "  <thead>\n",
       "    <tr style=\"text-align: right;\">\n",
       "      <th></th>\n",
       "      <th>Population</th>\n",
       "      <th>Children</th>\n",
       "      <th>Age</th>\n",
       "      <th>Income</th>\n",
       "      <th>ReAdmis</th>\n",
       "      <th>VitD_levels</th>\n",
       "      <th>Doc_visits</th>\n",
       "      <th>Full_meals_eaten</th>\n",
       "      <th>vitD_supp</th>\n",
       "      <th>HighBlood</th>\n",
       "      <th>Stroke</th>\n",
       "      <th>Overweight</th>\n",
       "      <th>Arthritis</th>\n",
       "      <th>Diabetes</th>\n",
       "      <th>Hyperlipidemia</th>\n",
       "      <th>BackPain</th>\n",
       "      <th>Anxiety</th>\n",
       "      <th>Allergic_rhinitis</th>\n",
       "      <th>Reflux_esophagitis</th>\n",
       "      <th>Asthma</th>\n",
       "      <th>Initial_days</th>\n",
       "      <th>TotalCharge</th>\n",
       "      <th>Additional_charges</th>\n",
       "      <th>Item1</th>\n",
       "      <th>Item2</th>\n",
       "      <th>Item3</th>\n",
       "      <th>Item4</th>\n",
       "      <th>Item5</th>\n",
       "      <th>Item6</th>\n",
       "      <th>Item7</th>\n",
       "      <th>Item8</th>\n",
       "      <th>Area_Rural</th>\n",
       "      <th>Area_Suburban</th>\n",
       "      <th>Area_Urban</th>\n",
       "      <th>Marital_Divorced</th>\n",
       "      <th>Marital_Married</th>\n",
       "      <th>Marital_Never_Married</th>\n",
       "      <th>Marital_Separated</th>\n",
       "      <th>Marital_Widowed</th>\n",
       "      <th>Gender_Female</th>\n",
       "      <th>Gender_Male</th>\n",
       "      <th>Gender_Nonbinary</th>\n",
       "      <th>Initial_admin_Elective</th>\n",
       "      <th>Initial_admin_Emergency</th>\n",
       "      <th>Initial_admin_Observation</th>\n",
       "      <th>Complication_risk_High</th>\n",
       "      <th>Complication_risk_Low</th>\n",
       "      <th>Complication_risk_Medium</th>\n",
       "      <th>Services_Blood_Work</th>\n",
       "      <th>Services_CT_Scan</th>\n",
       "      <th>Services_Intravenous</th>\n",
       "      <th>Services_MRI</th>\n",
       "    </tr>\n",
       "  </thead>\n",
       "  <tbody>\n",
       "    <tr>\n",
       "      <th>0</th>\n",
       "      <td>-0.473168</td>\n",
       "      <td>-0.507129</td>\n",
       "      <td>-0.024795</td>\n",
       "      <td>1.615914</td>\n",
       "      <td>0</td>\n",
       "      <td>0.583603</td>\n",
       "      <td>0.944647</td>\n",
       "      <td>-0.993387</td>\n",
       "      <td>-0.634713</td>\n",
       "      <td>1</td>\n",
       "      <td>0</td>\n",
       "      <td>0</td>\n",
       "      <td>1</td>\n",
       "      <td>1</td>\n",
       "      <td>0</td>\n",
       "      <td>1</td>\n",
       "      <td>1</td>\n",
       "      <td>1</td>\n",
       "      <td>0</td>\n",
       "      <td>1</td>\n",
       "      <td>-0.907310</td>\n",
       "      <td>-0.727185</td>\n",
       "      <td>0.765005</td>\n",
       "      <td>-0.502755</td>\n",
       "      <td>-0.489673</td>\n",
       "      <td>-1.463247</td>\n",
       "      <td>-1.462128</td>\n",
       "      <td>0.488380</td>\n",
       "      <td>-0.506139</td>\n",
       "      <td>-0.483672</td>\n",
       "      <td>0.470420</td>\n",
       "      <td>0</td>\n",
       "      <td>1</td>\n",
       "      <td>0</td>\n",
       "      <td>1</td>\n",
       "      <td>0</td>\n",
       "      <td>0</td>\n",
       "      <td>0</td>\n",
       "      <td>0</td>\n",
       "      <td>0</td>\n",
       "      <td>1</td>\n",
       "      <td>0</td>\n",
       "      <td>0</td>\n",
       "      <td>1</td>\n",
       "      <td>0</td>\n",
       "      <td>0</td>\n",
       "      <td>0</td>\n",
       "      <td>1</td>\n",
       "      <td>1</td>\n",
       "      <td>0</td>\n",
       "      <td>0</td>\n",
       "      <td>0</td>\n",
       "    </tr>\n",
       "    <tr>\n",
       "      <th>1</th>\n",
       "      <td>0.090242</td>\n",
       "      <td>0.417277</td>\n",
       "      <td>-0.121706</td>\n",
       "      <td>0.221443</td>\n",
       "      <td>0</td>\n",
       "      <td>0.483901</td>\n",
       "      <td>-0.967981</td>\n",
       "      <td>0.990609</td>\n",
       "      <td>0.956445</td>\n",
       "      <td>1</td>\n",
       "      <td>0</td>\n",
       "      <td>1</td>\n",
       "      <td>0</td>\n",
       "      <td>0</td>\n",
       "      <td>0</td>\n",
       "      <td>0</td>\n",
       "      <td>0</td>\n",
       "      <td>0</td>\n",
       "      <td>1</td>\n",
       "      <td>0</td>\n",
       "      <td>-0.734595</td>\n",
       "      <td>-0.513228</td>\n",
       "      <td>0.715114</td>\n",
       "      <td>-0.502755</td>\n",
       "      <td>0.476723</td>\n",
       "      <td>-0.494914</td>\n",
       "      <td>0.467946</td>\n",
       "      <td>0.488380</td>\n",
       "      <td>0.462548</td>\n",
       "      <td>-0.483672</td>\n",
       "      <td>-0.489033</td>\n",
       "      <td>0</td>\n",
       "      <td>0</td>\n",
       "      <td>1</td>\n",
       "      <td>0</td>\n",
       "      <td>1</td>\n",
       "      <td>0</td>\n",
       "      <td>0</td>\n",
       "      <td>0</td>\n",
       "      <td>1</td>\n",
       "      <td>0</td>\n",
       "      <td>0</td>\n",
       "      <td>0</td>\n",
       "      <td>1</td>\n",
       "      <td>0</td>\n",
       "      <td>1</td>\n",
       "      <td>0</td>\n",
       "      <td>0</td>\n",
       "      <td>0</td>\n",
       "      <td>0</td>\n",
       "      <td>1</td>\n",
       "      <td>0</td>\n",
       "    </tr>\n",
       "    <tr>\n",
       "      <th>2</th>\n",
       "      <td>0.482983</td>\n",
       "      <td>0.417277</td>\n",
       "      <td>-0.024795</td>\n",
       "      <td>-0.915870</td>\n",
       "      <td>0</td>\n",
       "      <td>0.046227</td>\n",
       "      <td>-0.967981</td>\n",
       "      <td>-0.001389</td>\n",
       "      <td>-0.634713</td>\n",
       "      <td>1</td>\n",
       "      <td>0</td>\n",
       "      <td>1</td>\n",
       "      <td>0</td>\n",
       "      <td>1</td>\n",
       "      <td>0</td>\n",
       "      <td>0</td>\n",
       "      <td>0</td>\n",
       "      <td>0</td>\n",
       "      <td>0</td>\n",
       "      <td>0</td>\n",
       "      <td>-1.128292</td>\n",
       "      <td>-1.319983</td>\n",
       "      <td>0.698635</td>\n",
       "      <td>-1.471828</td>\n",
       "      <td>0.476723</td>\n",
       "      <td>0.473418</td>\n",
       "      <td>0.467946</td>\n",
       "      <td>-0.482361</td>\n",
       "      <td>0.462548</td>\n",
       "      <td>-0.483672</td>\n",
       "      <td>-0.489033</td>\n",
       "      <td>0</td>\n",
       "      <td>1</td>\n",
       "      <td>0</td>\n",
       "      <td>0</td>\n",
       "      <td>0</td>\n",
       "      <td>0</td>\n",
       "      <td>0</td>\n",
       "      <td>1</td>\n",
       "      <td>1</td>\n",
       "      <td>0</td>\n",
       "      <td>0</td>\n",
       "      <td>1</td>\n",
       "      <td>0</td>\n",
       "      <td>0</td>\n",
       "      <td>0</td>\n",
       "      <td>0</td>\n",
       "      <td>1</td>\n",
       "      <td>1</td>\n",
       "      <td>0</td>\n",
       "      <td>0</td>\n",
       "      <td>0</td>\n",
       "    </tr>\n",
       "    <tr>\n",
       "      <th>3</th>\n",
       "      <td>-0.526393</td>\n",
       "      <td>-0.969332</td>\n",
       "      <td>1.186592</td>\n",
       "      <td>-0.026263</td>\n",
       "      <td>0</td>\n",
       "      <td>-0.687811</td>\n",
       "      <td>-0.967981</td>\n",
       "      <td>-0.001389</td>\n",
       "      <td>-0.634713</td>\n",
       "      <td>0</td>\n",
       "      <td>1</td>\n",
       "      <td>0</td>\n",
       "      <td>1</td>\n",
       "      <td>0</td>\n",
       "      <td>0</td>\n",
       "      <td>0</td>\n",
       "      <td>0</td>\n",
       "      <td>0</td>\n",
       "      <td>1</td>\n",
       "      <td>1</td>\n",
       "      <td>-1.244503</td>\n",
       "      <td>-1.460517</td>\n",
       "      <td>0.009004</td>\n",
       "      <td>-0.502755</td>\n",
       "      <td>1.443118</td>\n",
       "      <td>1.441750</td>\n",
       "      <td>-0.497091</td>\n",
       "      <td>0.488380</td>\n",
       "      <td>1.431236</td>\n",
       "      <td>1.474513</td>\n",
       "      <td>1.429874</td>\n",
       "      <td>0</td>\n",
       "      <td>1</td>\n",
       "      <td>0</td>\n",
       "      <td>0</td>\n",
       "      <td>1</td>\n",
       "      <td>0</td>\n",
       "      <td>0</td>\n",
       "      <td>0</td>\n",
       "      <td>0</td>\n",
       "      <td>1</td>\n",
       "      <td>0</td>\n",
       "      <td>1</td>\n",
       "      <td>0</td>\n",
       "      <td>0</td>\n",
       "      <td>0</td>\n",
       "      <td>0</td>\n",
       "      <td>1</td>\n",
       "      <td>1</td>\n",
       "      <td>0</td>\n",
       "      <td>0</td>\n",
       "      <td>0</td>\n",
       "    </tr>\n",
       "    <tr>\n",
       "      <th>4</th>\n",
       "      <td>-0.315586</td>\n",
       "      <td>-0.507129</td>\n",
       "      <td>-1.526914</td>\n",
       "      <td>-1.377325</td>\n",
       "      <td>0</td>\n",
       "      <td>-0.260366</td>\n",
       "      <td>-0.011667</td>\n",
       "      <td>-0.993387</td>\n",
       "      <td>2.547602</td>\n",
       "      <td>0</td>\n",
       "      <td>0</td>\n",
       "      <td>0</td>\n",
       "      <td>0</td>\n",
       "      <td>0</td>\n",
       "      <td>1</td>\n",
       "      <td>0</td>\n",
       "      <td>0</td>\n",
       "      <td>1</td>\n",
       "      <td>0</td>\n",
       "      <td>0</td>\n",
       "      <td>-1.261991</td>\n",
       "      <td>-1.467285</td>\n",
       "      <td>-1.408991</td>\n",
       "      <td>-1.471828</td>\n",
       "      <td>-2.422464</td>\n",
       "      <td>-0.494914</td>\n",
       "      <td>-0.497091</td>\n",
       "      <td>1.459121</td>\n",
       "      <td>-0.506139</td>\n",
       "      <td>0.495421</td>\n",
       "      <td>-0.489033</td>\n",
       "      <td>1</td>\n",
       "      <td>0</td>\n",
       "      <td>0</td>\n",
       "      <td>0</td>\n",
       "      <td>0</td>\n",
       "      <td>0</td>\n",
       "      <td>0</td>\n",
       "      <td>1</td>\n",
       "      <td>1</td>\n",
       "      <td>0</td>\n",
       "      <td>0</td>\n",
       "      <td>1</td>\n",
       "      <td>0</td>\n",
       "      <td>0</td>\n",
       "      <td>0</td>\n",
       "      <td>1</td>\n",
       "      <td>0</td>\n",
       "      <td>0</td>\n",
       "      <td>1</td>\n",
       "      <td>0</td>\n",
       "      <td>0</td>\n",
       "    </tr>\n",
       "  </tbody>\n",
       "</table>\n",
       "</div>"
      ],
      "text/plain": [
       "   Population  Children       Age    Income  ReAdmis  VitD_levels  Doc_visits  \\\n",
       "0   -0.473168 -0.507129 -0.024795  1.615914        0     0.583603    0.944647   \n",
       "1    0.090242  0.417277 -0.121706  0.221443        0     0.483901   -0.967981   \n",
       "2    0.482983  0.417277 -0.024795 -0.915870        0     0.046227   -0.967981   \n",
       "3   -0.526393 -0.969332  1.186592 -0.026263        0    -0.687811   -0.967981   \n",
       "4   -0.315586 -0.507129 -1.526914 -1.377325        0    -0.260366   -0.011667   \n",
       "\n",
       "   Full_meals_eaten  vitD_supp  HighBlood  Stroke  Overweight  Arthritis  \\\n",
       "0         -0.993387  -0.634713          1       0           0          1   \n",
       "1          0.990609   0.956445          1       0           1          0   \n",
       "2         -0.001389  -0.634713          1       0           1          0   \n",
       "3         -0.001389  -0.634713          0       1           0          1   \n",
       "4         -0.993387   2.547602          0       0           0          0   \n",
       "\n",
       "   Diabetes  Hyperlipidemia  BackPain  Anxiety  Allergic_rhinitis  \\\n",
       "0         1               0         1        1                  1   \n",
       "1         0               0         0        0                  0   \n",
       "2         1               0         0        0                  0   \n",
       "3         0               0         0        0                  0   \n",
       "4         0               1         0        0                  1   \n",
       "\n",
       "   Reflux_esophagitis  Asthma  Initial_days  TotalCharge  Additional_charges  \\\n",
       "0                   0       1     -0.907310    -0.727185            0.765005   \n",
       "1                   1       0     -0.734595    -0.513228            0.715114   \n",
       "2                   0       0     -1.128292    -1.319983            0.698635   \n",
       "3                   1       1     -1.244503    -1.460517            0.009004   \n",
       "4                   0       0     -1.261991    -1.467285           -1.408991   \n",
       "\n",
       "      Item1     Item2     Item3     Item4     Item5     Item6     Item7  \\\n",
       "0 -0.502755 -0.489673 -1.463247 -1.462128  0.488380 -0.506139 -0.483672   \n",
       "1 -0.502755  0.476723 -0.494914  0.467946  0.488380  0.462548 -0.483672   \n",
       "2 -1.471828  0.476723  0.473418  0.467946 -0.482361  0.462548 -0.483672   \n",
       "3 -0.502755  1.443118  1.441750 -0.497091  0.488380  1.431236  1.474513   \n",
       "4 -1.471828 -2.422464 -0.494914 -0.497091  1.459121 -0.506139  0.495421   \n",
       "\n",
       "      Item8  Area_Rural  Area_Suburban  Area_Urban  Marital_Divorced  \\\n",
       "0  0.470420           0              1           0                 1   \n",
       "1 -0.489033           0              0           1                 0   \n",
       "2 -0.489033           0              1           0                 0   \n",
       "3  1.429874           0              1           0                 0   \n",
       "4 -0.489033           1              0           0                 0   \n",
       "\n",
       "   Marital_Married  Marital_Never_Married  Marital_Separated  Marital_Widowed  \\\n",
       "0                0                      0                  0                0   \n",
       "1                1                      0                  0                0   \n",
       "2                0                      0                  0                1   \n",
       "3                1                      0                  0                0   \n",
       "4                0                      0                  0                1   \n",
       "\n",
       "   Gender_Female  Gender_Male  Gender_Nonbinary  Initial_admin_Elective  \\\n",
       "0              0            1                 0                       0   \n",
       "1              1            0                 0                       0   \n",
       "2              1            0                 0                       1   \n",
       "3              0            1                 0                       1   \n",
       "4              1            0                 0                       1   \n",
       "\n",
       "   Initial_admin_Emergency  Initial_admin_Observation  Complication_risk_High  \\\n",
       "0                        1                          0                       0   \n",
       "1                        1                          0                       1   \n",
       "2                        0                          0                       0   \n",
       "3                        0                          0                       0   \n",
       "4                        0                          0                       0   \n",
       "\n",
       "   Complication_risk_Low  Complication_risk_Medium  Services_Blood_Work  \\\n",
       "0                      0                         1                    1   \n",
       "1                      0                         0                    0   \n",
       "2                      0                         1                    1   \n",
       "3                      0                         1                    1   \n",
       "4                      1                         0                    0   \n",
       "\n",
       "   Services_CT_Scan  Services_Intravenous  Services_MRI  \n",
       "0                 0                     0             0  \n",
       "1                 0                     1             0  \n",
       "2                 0                     0             0  \n",
       "3                 0                     0             0  \n",
       "4                 1                     0             0  "
      ]
     },
     "execution_count": 28,
     "metadata": {},
     "output_type": "execute_result"
    }
   ],
   "source": [
    "df.head(5)"
   ]
  },
  {
   "cell_type": "code",
   "execution_count": 29,
   "metadata": {},
   "outputs": [],
   "source": [
    "#Now all the categorical variables that were yes/no have been converted to 1 or 0,\n",
    "#all the categorical variables with more than 2 classes have been hot oen encoded"
   ]
  },
  {
   "cell_type": "code",
   "execution_count": 30,
   "metadata": {},
   "outputs": [
    {
     "data": {
      "text/plain": [
       "(10000, 52)"
      ]
     },
     "execution_count": 30,
     "metadata": {},
     "output_type": "execute_result"
    }
   ],
   "source": [
    "df.shape"
   ]
  },
  {
   "cell_type": "code",
   "execution_count": 31,
   "metadata": {},
   "outputs": [],
   "source": [
    "df.to_csv('prepped_med_data.csv')"
   ]
  },
  {
   "cell_type": "markdown",
   "metadata": {},
   "source": [
    "\n",
    "Train Test Split\n"
   ]
  },
  {
   "cell_type": "code",
   "execution_count": 32,
   "metadata": {},
   "outputs": [],
   "source": [
    "from sklearn.model_selection import train_test_split\n",
    "train , test = train_test_split(df, test_size = 0.25)\n",
    "\n",
    "x_train = train.drop('ReAdmis', axis=1)\n",
    "y_train = train['ReAdmis']\n",
    "\n",
    "x_test = test.drop('ReAdmis', axis = 1)\n",
    "y_test = test['ReAdmis']"
   ]
  },
  {
   "cell_type": "markdown",
   "metadata": {},
   "source": [
    "Random Forest Implementation"
   ]
  },
  {
   "cell_type": "markdown",
   "metadata": {},
   "source": [
    "https://www.datacamp.com/community/tutorials/random-forests-classifier-python"
   ]
  },
  {
   "cell_type": "code",
   "execution_count": 33,
   "metadata": {},
   "outputs": [],
   "source": [
    "#Import Random Forest Model\n",
    "from sklearn.ensemble import RandomForestClassifier\n",
    "\n",
    "#Create a Gaussian Classifier\n",
    "#clf=RandomForestClassifier(n_estimators=100)\n",
    "\n",
    "\n",
    "clf = RandomForestClassifier(bootstrap=True, class_weight=None, criterion='gini',\n",
    "            max_depth=None, max_features='auto', max_leaf_nodes=None,\n",
    "            min_impurity_decrease=0.0, min_impurity_split=None,\n",
    "            min_samples_leaf=1, min_samples_split=2,\n",
    "            min_weight_fraction_leaf=0.0, n_estimators=100, n_jobs=1,\n",
    "            oob_score=False, random_state=None, verbose=0,\n",
    "            warm_start=False)\n",
    "\n",
    "\n",
    "\n",
    "#Train the model using the training sets y_pred=clf.predict(X_test)\n",
    "clf.fit(x_train,y_train)\n",
    "\n",
    "\n",
    "\n",
    "y_pred=clf.predict(x_test)"
   ]
  },
  {
   "cell_type": "code",
   "execution_count": 34,
   "metadata": {},
   "outputs": [],
   "source": [
    "# n_estimatorsint, default=100 : The number of trees in the forest.\n",
    "\n",
    "# criterion{“gini”, “entropy”}, default=”gini” :The function to measure the quality of a split. Supported criteria are “gini” for the Gini impurity and “entropy” for the information gain. Note: this parameter is tree-specific.\n",
    "\n",
    "# max_depthint, default=None : The maximum depth of the tree. If None, then nodes are expanded until all leaves are pure or until all leaves contain less than min_samples_split samples.\n",
    "    \n",
    "# min_samples_splitint or float, default=2:The minimum number of samples required to split an internal node:If int, then consider min_samples_split as the minimum number. If float, then min_samples_split is a fraction and ceil(min_samples_split * n_samples) are the minimum number of samples for each split.\n",
    "\n",
    "# min_samples_leafint or float, default=1 : The minimum number of samples required to be at a leaf node\n",
    "\n",
    "# max_features{“auto”, “sqrt”, “log2”}, int or float, default=”auto” : If int, then consider max_features features at each split.\n",
    "# If float, then max_features is a fraction and round(max_features * n_features) features are considered at each split.\n",
    "# If “auto”, then max_features=sqrt(n_features).\n",
    "# If “sqrt”, then max_features=sqrt(n_features) (same as “auto”).\n",
    "# If “log2”, then max_features=log2(n_features).\n",
    "# If None, then max_features=n_features.\n",
    "\n",
    "# max_leaf_nodesint, default=None: Grow trees with max_leaf_nodes in best-first fashion. Best nodes are defined as relative reduction in impurity. If None then unlimited number of leaf nodes.\n",
    "\n",
    "# min_impurity_decreasefloat, default=0.0 : A node will be split if this split induces a decrease of the impurity greater than or equal to this value.   \n",
    "    \n",
    "# bootstrapbool, default=True : Whether bootstrap samples are used when building trees. If False, the whole dataset is used to build each tree.\n",
    "    \n",
    "# oob_scorebool, default=False : Whether to use out-of-bag samples to estimate the generalization accuracy.\n",
    "    \n",
    "# n_jobsint, default=None: The number of jobs to run in parallel. fit, predict, decision_path and apply are all parallelized over the trees. None means 1 unless in a joblib.parallel_backend context. -1 means using all processors. See Glossary for more details.\n",
    "    \n",
    "# verboseint, default=0: Controls the verbosity when fitting and predicting.\n",
    "    \n",
    "# warm_startbool, default=False : When set to True, reuse the solution of the previous call to fit and add more estimators to the ensemble, otherwise, just fit a whole new forest. See the Glossary.\n",
    "    \n",
    "    "
   ]
  },
  {
   "cell_type": "code",
   "execution_count": 35,
   "metadata": {},
   "outputs": [
    {
     "name": "stdout",
     "output_type": "stream",
     "text": [
      "Accuracy: 0.9816\n"
     ]
    }
   ],
   "source": [
    "#Import scikit-learn metrics module for accuracy calculation\n",
    "from sklearn import metrics\n",
    "# Model Accuracy, how often is the classifier correct?\n",
    "print(\"Accuracy:\",metrics.accuracy_score(y_test, y_pred))"
   ]
  },
  {
   "cell_type": "code",
   "execution_count": 36,
   "metadata": {},
   "outputs": [
    {
     "data": {
      "text/html": [
       "<div>\n",
       "<style scoped>\n",
       "    .dataframe tbody tr th:only-of-type {\n",
       "        vertical-align: middle;\n",
       "    }\n",
       "\n",
       "    .dataframe tbody tr th {\n",
       "        vertical-align: top;\n",
       "    }\n",
       "\n",
       "    .dataframe thead th {\n",
       "        text-align: right;\n",
       "    }\n",
       "</style>\n",
       "<table border=\"1\" class=\"dataframe\">\n",
       "  <thead>\n",
       "    <tr style=\"text-align: right;\">\n",
       "      <th></th>\n",
       "      <th>Predicted</th>\n",
       "      <th>Actual</th>\n",
       "    </tr>\n",
       "  </thead>\n",
       "  <tbody>\n",
       "    <tr>\n",
       "      <th>6493</th>\n",
       "      <td>0</td>\n",
       "      <td>0</td>\n",
       "    </tr>\n",
       "    <tr>\n",
       "      <th>5412</th>\n",
       "      <td>1</td>\n",
       "      <td>0</td>\n",
       "    </tr>\n",
       "    <tr>\n",
       "      <th>2003</th>\n",
       "      <td>0</td>\n",
       "      <td>0</td>\n",
       "    </tr>\n",
       "    <tr>\n",
       "      <th>7445</th>\n",
       "      <td>0</td>\n",
       "      <td>0</td>\n",
       "    </tr>\n",
       "    <tr>\n",
       "      <th>5309</th>\n",
       "      <td>1</td>\n",
       "      <td>1</td>\n",
       "    </tr>\n",
       "    <tr>\n",
       "      <th>4899</th>\n",
       "      <td>0</td>\n",
       "      <td>0</td>\n",
       "    </tr>\n",
       "    <tr>\n",
       "      <th>5236</th>\n",
       "      <td>1</td>\n",
       "      <td>1</td>\n",
       "    </tr>\n",
       "    <tr>\n",
       "      <th>9423</th>\n",
       "      <td>1</td>\n",
       "      <td>1</td>\n",
       "    </tr>\n",
       "    <tr>\n",
       "      <th>9134</th>\n",
       "      <td>1</td>\n",
       "      <td>1</td>\n",
       "    </tr>\n",
       "    <tr>\n",
       "      <th>1900</th>\n",
       "      <td>0</td>\n",
       "      <td>0</td>\n",
       "    </tr>\n",
       "    <tr>\n",
       "      <th>9028</th>\n",
       "      <td>1</td>\n",
       "      <td>1</td>\n",
       "    </tr>\n",
       "    <tr>\n",
       "      <th>4149</th>\n",
       "      <td>0</td>\n",
       "      <td>0</td>\n",
       "    </tr>\n",
       "    <tr>\n",
       "      <th>8430</th>\n",
       "      <td>1</td>\n",
       "      <td>1</td>\n",
       "    </tr>\n",
       "    <tr>\n",
       "      <th>9224</th>\n",
       "      <td>1</td>\n",
       "      <td>1</td>\n",
       "    </tr>\n",
       "    <tr>\n",
       "      <th>2470</th>\n",
       "      <td>0</td>\n",
       "      <td>0</td>\n",
       "    </tr>\n",
       "  </tbody>\n",
       "</table>\n",
       "</div>"
      ],
      "text/plain": [
       "      Predicted  Actual\n",
       "6493          0       0\n",
       "5412          1       0\n",
       "2003          0       0\n",
       "7445          0       0\n",
       "5309          1       1\n",
       "4899          0       0\n",
       "5236          1       1\n",
       "9423          1       1\n",
       "9134          1       1\n",
       "1900          0       0\n",
       "9028          1       1\n",
       "4149          0       0\n",
       "8430          1       1\n",
       "9224          1       1\n",
       "2470          0       0"
      ]
     },
     "execution_count": 36,
     "metadata": {},
     "output_type": "execute_result"
    }
   ],
   "source": [
    "pd.DataFrame(data={'Predicted': y_pred, 'Actual': y_test}).head(15)"
   ]
  },
  {
   "cell_type": "code",
   "execution_count": 37,
   "metadata": {},
   "outputs": [
    {
     "name": "stdout",
     "output_type": "stream",
     "text": [
      "0.9816\n"
     ]
    }
   ],
   "source": [
    "from sklearn.metrics import accuracy_score\n",
    "# print ('accuracy =', metrics.accuracy_score(y_test, y_pred))\n",
    "accuracy = accuracy_score(y_test, y_pred)\n",
    "print(accuracy)"
   ]
  },
  {
   "cell_type": "code",
   "execution_count": 38,
   "metadata": {},
   "outputs": [
    {
     "data": {
      "text/plain": [
       "0.9816"
      ]
     },
     "execution_count": 38,
     "metadata": {},
     "output_type": "execute_result"
    }
   ],
   "source": [
    "from sklearn.metrics import recall_score\n",
    "recall_score(y_test, y_pred, average='micro' )"
   ]
  },
  {
   "cell_type": "code",
   "execution_count": 39,
   "metadata": {},
   "outputs": [
    {
     "data": {
      "text/plain": [
       "0.9816"
      ]
     },
     "execution_count": 39,
     "metadata": {},
     "output_type": "execute_result"
    }
   ],
   "source": [
    "from sklearn.metrics import precision_score\n",
    "precision_score(y_test, y_pred,  average='micro')"
   ]
  },
  {
   "cell_type": "code",
   "execution_count": 40,
   "metadata": {},
   "outputs": [
    {
     "data": {
      "text/plain": [
       "0.9816"
      ]
     },
     "execution_count": 40,
     "metadata": {},
     "output_type": "execute_result"
    }
   ],
   "source": [
    "from sklearn.metrics import f1_score\n",
    "f1_score(y_test, y_pred,  average='micro')"
   ]
  },
  {
   "cell_type": "code",
   "execution_count": 41,
   "metadata": {},
   "outputs": [
    {
     "name": "stdout",
     "output_type": "stream",
     "text": [
      "              precision    recall  f1-score   support\n",
      "\n",
      "           0       0.99      0.98      0.99      1577\n",
      "           1       0.97      0.98      0.98       923\n",
      "\n",
      "    accuracy                           0.98      2500\n",
      "   macro avg       0.98      0.98      0.98      2500\n",
      "weighted avg       0.98      0.98      0.98      2500\n",
      "\n"
     ]
    }
   ],
   "source": [
    "from sklearn.metrics import classification_report\n",
    "print(classification_report(y_test, y_pred))"
   ]
  },
  {
   "cell_type": "code",
   "execution_count": 42,
   "metadata": {},
   "outputs": [],
   "source": [
    "from sklearn import preprocessing\n",
    "from sklearn.metrics import roc_auc_score\n",
    "# probs = y_probas[:, 1]\n",
    "# print ('ROC AUC =', roc_auc_score(y_test, probs, multi_class='ovo'))\n",
    "\n",
    "def multiclass_roc_auc_score(y_test, y_pred, average=\"macro\"):\n",
    "    lb = preprocessing.LabelBinarizer()\n",
    "    lb.fit(y_test)\n",
    "    y_test = lb.transform(y_test)\n",
    "    y_pred = lb.transform(y_pred)\n",
    "    return roc_auc_score(y_test, y_pred, average=average)"
   ]
  },
  {
   "cell_type": "code",
   "execution_count": 43,
   "metadata": {},
   "outputs": [
    {
     "data": {
      "text/plain": [
       "0.9804729552869631"
      ]
     },
     "execution_count": 43,
     "metadata": {},
     "output_type": "execute_result"
    }
   ],
   "source": [
    "multiclass_roc_auc_score(y_test, y_pred)"
   ]
  },
  {
   "cell_type": "code",
   "execution_count": 44,
   "metadata": {},
   "outputs": [
    {
     "data": {
      "text/plain": [
       "<matplotlib.axes._subplots.AxesSubplot at 0x17e4c6299d0>"
      ]
     },
     "execution_count": 44,
     "metadata": {},
     "output_type": "execute_result"
    },
    {
     "data": {
      "image/png": "[encoded data removed]",
      "text/plain": [
       "<Figure size 720x576 with 1 Axes>"
      ]
     },
     "metadata": {
      "needs_background": "light"
     },
     "output_type": "display_data"
    }
   ],
   "source": [
    "import scikitplot as skplt\n",
    "y_probas=clf.predict_proba(x_test)\n",
    "skplt.metrics.plot_roc(y_test, y_probas, figsize=(10, 8))"
   ]
  },
  {
   "cell_type": "code",
   "execution_count": 45,
   "metadata": {},
   "outputs": [],
   "source": [
    "# feature_imp = pd.Series(clf.feature_importances_,index=df.feature_names).sort_values(ascending=False)\n",
    "# feature_imp"
   ]
  },
  {
   "cell_type": "code",
   "execution_count": 46,
   "metadata": {},
   "outputs": [],
   "source": [
    "feature_imp = pd.Series(clf.feature_importances_, index =x_train.columns).sort_values(ascending=False)"
   ]
  },
  {
   "cell_type": "code",
   "execution_count": 47,
   "metadata": {},
   "outputs": [
    {
     "name": "stdout",
     "output_type": "stream",
     "text": [
      "Initial_days                 0.525700\n",
      "TotalCharge                  0.384106\n",
      "Population                   0.007194\n",
      "Income                       0.006922\n",
      "Additional_charges           0.006621\n",
      "VitD_levels                  0.006522\n",
      "Age                          0.004944\n",
      "Children                     0.003052\n",
      "Item4                        0.002817\n",
      "Item8                        0.002610\n",
      "Doc_visits                   0.002565\n",
      "Item5                        0.002539\n",
      "Item3                        0.002538\n",
      "Item2                        0.002454\n",
      "Item1                        0.002437\n",
      "Item7                        0.002389\n",
      "Item6                        0.002386\n",
      "Initial_admin_Emergency      0.002201\n",
      "Full_meals_eaten             0.002084\n",
      "vitD_supp                    0.001533\n",
      "Complication_risk_High       0.001500\n",
      "Complication_risk_Medium     0.001369\n",
      "Arthritis                    0.001157\n",
      "Asthma                       0.001075\n",
      "Stroke                       0.001073\n",
      "Reflux_esophagitis           0.000992\n",
      "Allergic_rhinitis            0.000987\n",
      "Initial_admin_Elective       0.000980\n",
      "BackPain                     0.000969\n",
      "Anxiety                      0.000950\n",
      "HighBlood                    0.000901\n",
      "Complication_risk_Low        0.000867\n",
      "Area_Urban                   0.000850\n",
      "Gender_Male                  0.000847\n",
      "Initial_admin_Observation    0.000833\n",
      "Marital_Never_Married        0.000814\n",
      "Marital_Widowed              0.000800\n",
      "Gender_Female                0.000797\n",
      "Overweight                   0.000785\n",
      "Hyperlipidemia               0.000758\n",
      "Area_Rural                   0.000740\n",
      "Services_CT_Scan             0.000735\n",
      "Marital_Married              0.000723\n",
      "Services_Blood_Work          0.000721\n",
      "Marital_Divorced             0.000713\n",
      "Diabetes                     0.000689\n",
      "Marital_Separated            0.000673\n",
      "Area_Suburban                0.000599\n",
      "Services_MRI                 0.000595\n",
      "Services_Intravenous         0.000592\n",
      "Gender_Nonbinary             0.000306\n",
      "dtype: float64\n"
     ]
    }
   ],
   "source": [
    "print(feature_imp)"
   ]
  },
  {
   "cell_type": "code",
   "execution_count": 48,
   "metadata": {},
   "outputs": [],
   "source": [
    "top10= feature_imp.nlargest(n=5, keep='first')"
   ]
  },
  {
   "cell_type": "code",
   "execution_count": 49,
   "metadata": {},
   "outputs": [
    {
     "name": "stderr",
     "output_type": "stream",
     "text": [
      "No handles with labels found to put in legend.\n"
     ]
    },
    {
     "data": {
      "image/png": "[encoded data removed]",
      "text/plain": [
       "<Figure size 432x288 with 1 Axes>"
      ]
     },
     "metadata": {
      "needs_background": "light"
     },
     "output_type": "display_data"
    }
   ],
   "source": [
    "import matplotlib.pyplot as plt\n",
    "import seaborn as sns\n",
    "%matplotlib inline\n",
    "# Creating a bar plot\n",
    "sns.barplot(x=top10, y=top10.index)\n",
    "# Add labels to your graph\n",
    "plt.xlabel('Feature Importance Score')\n",
    "plt.ylabel('Features')\n",
    "plt.title(\"Visualizing Important Features\")\n",
    "plt.legend()\n",
    "plt.show()"
   ]
  },
  {
   "cell_type": "markdown",
   "metadata": {},
   "source": [
    "https://www.datacamp.com/community/tutorials/random-forests-classifier-python"
   ]
  },
  {
   "cell_type": "markdown",
   "metadata": {},
   "source": [
    "New model with only the most important features"
   ]
  },
  {
   "cell_type": "code",
   "execution_count": 50,
   "metadata": {},
   "outputs": [],
   "source": [
    "# Import train_test_split function\n",
    "#from sklearn.cross_validation import train_test_split\n",
    "# Split dataset into features and labels\n",
    "x=df[['Initial_days', 'TotalCharge', 'Income', 'VitD_levels','Additional_charges']]  # Removed features\n",
    "y=df['ReAdmis']                                       \n",
    "# Split dataset into training set and test set\n",
    "x_train, x_test, y_train, y_test = train_test_split(x, y, test_size=0.25, random_state=5) # 70% training and 30% test"
   ]
  },
  {
   "cell_type": "code",
   "execution_count": 51,
   "metadata": {},
   "outputs": [
    {
     "data": {
      "text/plain": [
       "RandomForestClassifier(n_estimators=1000, n_jobs=1)"
      ]
     },
     "execution_count": 51,
     "metadata": {},
     "output_type": "execute_result"
    }
   ],
   "source": [
    "#Create a Gaussian Classifier\n",
    "clf=RandomForestClassifier(bootstrap=True, class_weight=None, criterion='gini',\n",
    "            max_depth=None, max_features='auto', max_leaf_nodes=None,\n",
    "            min_impurity_decrease=0.0, min_impurity_split=None,\n",
    "            min_samples_leaf=1, min_samples_split=2,\n",
    "            min_weight_fraction_leaf=0.0, n_estimators=1000, n_jobs=1,\n",
    "            oob_score=False, random_state=None, verbose=0,\n",
    "            warm_start=False)\n",
    "\n",
    "#Train the model using the training sets y_pred=clf.predict(X_test)\n",
    "clf.fit(x_train,y_train)\n"
   ]
  },
  {
   "cell_type": "code",
   "execution_count": 52,
   "metadata": {},
   "outputs": [],
   "source": [
    "# n_estimatorsint, default=100 : The number of trees in the forest.\n",
    "\n",
    "# criterion{“gini”, “entropy”}, default=”gini” :The function to measure the quality of a split. Supported criteria are “gini” for the Gini impurity and “entropy” for the information gain. Note: this parameter is tree-specific.\n",
    "\n",
    "# max_depthint, default=None : The maximum depth of the tree. If None, then nodes are expanded until all leaves are pure or until all leaves contain less than min_samples_split samples.\n",
    "    \n",
    "# min_samples_splitint or float, default=2:The minimum number of samples required to split an internal node:If int, then consider min_samples_split as the minimum number. If float, then min_samples_split is a fraction and ceil(min_samples_split * n_samples) are the minimum number of samples for each split.\n",
    "\n",
    "# min_samples_leafint or float, default=1 : The minimum number of samples required to be at a leaf node\n",
    "\n",
    "# max_features{“auto”, “sqrt”, “log2”}, int or float, default=”auto” : If int, then consider max_features features at each split.\n",
    "# If float, then max_features is a fraction and round(max_features * n_features) features are considered at each split.\n",
    "# If “auto”, then max_features=sqrt(n_features).\n",
    "# If “sqrt”, then max_features=sqrt(n_features) (same as “auto”).\n",
    "# If “log2”, then max_features=log2(n_features).\n",
    "# If None, then max_features=n_features.\n",
    "\n",
    "# max_leaf_nodesint, default=None: Grow trees with max_leaf_nodes in best-first fashion. Best nodes are defined as relative reduction in impurity. If None then unlimited number of leaf nodes.\n",
    "\n",
    "# min_impurity_decreasefloat, default=0.0 : A node will be split if this split induces a decrease of the impurity greater than or equal to this value.   \n",
    "    \n",
    "# bootstrapbool, default=True : Whether bootstrap samples are used when building trees. If False, the whole dataset is used to build each tree.\n",
    "    \n",
    "# oob_scorebool, default=False : Whether to use out-of-bag samples to estimate the generalization accuracy.\n",
    "    \n",
    "# n_jobsint, default=None: The number of jobs to run in parallel. fit, predict, decision_path and apply are all parallelized over the trees. None means 1 unless in a joblib.parallel_backend context. -1 means using all processors. See Glossary for more details.\n",
    "    \n",
    "# verboseint, default=0: Controls the verbosity when fitting and predicting.\n",
    "    \n",
    "# warm_startbool, default=False : When set to True, reuse the solution of the previous call to fit and add more estimators to the ensemble, otherwise, just fit a whole new forest. See the Glossary.\n",
    "    \n",
    "    "
   ]
  },
  {
   "cell_type": "code",
   "execution_count": 53,
   "metadata": {},
   "outputs": [],
   "source": [
    "y_pred=clf.predict(x_test)"
   ]
  },
  {
   "cell_type": "code",
   "execution_count": 54,
   "metadata": {},
   "outputs": [
    {
     "name": "stdout",
     "output_type": "stream",
     "text": [
      "Accuracy: 0.9808\n"
     ]
    }
   ],
   "source": [
    "# Model Accuracy, how often is the classifier correct?\n",
    "print(\"Accuracy:\",metrics.accuracy_score(y_test, y_pred))"
   ]
  },
  {
   "cell_type": "code",
   "execution_count": 55,
   "metadata": {},
   "outputs": [
    {
     "data": {
      "text/html": [
       "<div>\n",
       "<style scoped>\n",
       "    .dataframe tbody tr th:only-of-type {\n",
       "        vertical-align: middle;\n",
       "    }\n",
       "\n",
       "    .dataframe tbody tr th {\n",
       "        vertical-align: top;\n",
       "    }\n",
       "\n",
       "    .dataframe thead th {\n",
       "        text-align: right;\n",
       "    }\n",
       "</style>\n",
       "<table border=\"1\" class=\"dataframe\">\n",
       "  <thead>\n",
       "    <tr style=\"text-align: right;\">\n",
       "      <th></th>\n",
       "      <th>Predicted</th>\n",
       "      <th>Actual</th>\n",
       "    </tr>\n",
       "  </thead>\n",
       "  <tbody>\n",
       "    <tr>\n",
       "      <th>7054</th>\n",
       "      <td>0</td>\n",
       "      <td>0</td>\n",
       "    </tr>\n",
       "    <tr>\n",
       "      <th>442</th>\n",
       "      <td>0</td>\n",
       "      <td>0</td>\n",
       "    </tr>\n",
       "    <tr>\n",
       "      <th>3954</th>\n",
       "      <td>0</td>\n",
       "      <td>0</td>\n",
       "    </tr>\n",
       "    <tr>\n",
       "      <th>2288</th>\n",
       "      <td>0</td>\n",
       "      <td>0</td>\n",
       "    </tr>\n",
       "    <tr>\n",
       "      <th>3196</th>\n",
       "      <td>0</td>\n",
       "      <td>0</td>\n",
       "    </tr>\n",
       "    <tr>\n",
       "      <th>6178</th>\n",
       "      <td>1</td>\n",
       "      <td>1</td>\n",
       "    </tr>\n",
       "    <tr>\n",
       "      <th>8351</th>\n",
       "      <td>1</td>\n",
       "      <td>1</td>\n",
       "    </tr>\n",
       "    <tr>\n",
       "      <th>5658</th>\n",
       "      <td>1</td>\n",
       "      <td>1</td>\n",
       "    </tr>\n",
       "    <tr>\n",
       "      <th>2065</th>\n",
       "      <td>0</td>\n",
       "      <td>0</td>\n",
       "    </tr>\n",
       "    <tr>\n",
       "      <th>413</th>\n",
       "      <td>0</td>\n",
       "      <td>0</td>\n",
       "    </tr>\n",
       "    <tr>\n",
       "      <th>8594</th>\n",
       "      <td>1</td>\n",
       "      <td>1</td>\n",
       "    </tr>\n",
       "    <tr>\n",
       "      <th>1805</th>\n",
       "      <td>0</td>\n",
       "      <td>0</td>\n",
       "    </tr>\n",
       "    <tr>\n",
       "      <th>3631</th>\n",
       "      <td>0</td>\n",
       "      <td>0</td>\n",
       "    </tr>\n",
       "    <tr>\n",
       "      <th>837</th>\n",
       "      <td>0</td>\n",
       "      <td>0</td>\n",
       "    </tr>\n",
       "    <tr>\n",
       "      <th>9322</th>\n",
       "      <td>0</td>\n",
       "      <td>0</td>\n",
       "    </tr>\n",
       "  </tbody>\n",
       "</table>\n",
       "</div>"
      ],
      "text/plain": [
       "      Predicted  Actual\n",
       "7054          0       0\n",
       "442           0       0\n",
       "3954          0       0\n",
       "2288          0       0\n",
       "3196          0       0\n",
       "6178          1       1\n",
       "8351          1       1\n",
       "5658          1       1\n",
       "2065          0       0\n",
       "413           0       0\n",
       "8594          1       1\n",
       "1805          0       0\n",
       "3631          0       0\n",
       "837           0       0\n",
       "9322          0       0"
      ]
     },
     "execution_count": 55,
     "metadata": {},
     "output_type": "execute_result"
    }
   ],
   "source": [
    "pd.DataFrame(data={'Predicted': y_pred, 'Actual': y_test}).head(15)"
   ]
  },
  {
   "cell_type": "code",
   "execution_count": 56,
   "metadata": {},
   "outputs": [
    {
     "name": "stdout",
     "output_type": "stream",
     "text": [
      "0.9808\n"
     ]
    }
   ],
   "source": [
    "accuracy = accuracy_score(y_test, y_pred)\n",
    "print(accuracy)"
   ]
  },
  {
   "cell_type": "code",
   "execution_count": 57,
   "metadata": {},
   "outputs": [
    {
     "name": "stdout",
     "output_type": "stream",
     "text": [
      "              precision    recall  f1-score   support\n",
      "\n",
      "           0       0.99      0.98      0.98      1586\n",
      "           1       0.97      0.98      0.97       914\n",
      "\n",
      "    accuracy                           0.98      2500\n",
      "   macro avg       0.98      0.98      0.98      2500\n",
      "weighted avg       0.98      0.98      0.98      2500\n",
      "\n"
     ]
    }
   ],
   "source": [
    "\n",
    "print(classification_report(y_test, y_pred))"
   ]
  },
  {
   "cell_type": "code",
   "execution_count": 58,
   "metadata": {},
   "outputs": [],
   "source": [
    "probs = clf.predict_proba(x_test)"
   ]
  },
  {
   "cell_type": "code",
   "execution_count": 59,
   "metadata": {},
   "outputs": [],
   "source": [
    "from sklearn import preprocessing\n",
    "from sklearn.metrics import roc_auc_score\n",
    "# probs = y_probas[:, 1]\n",
    "# print ('ROC AUC =', roc_auc_score(y_test, probs, multi_class='ovo'))\n",
    "\n",
    "def multiclass_roc_auc_score(y_test, y_pred, average=\"macro\"):\n",
    "    lb = preprocessing.LabelBinarizer()\n",
    "    lb.fit(y_test)\n",
    "    y_test = lb.transform(y_test)\n",
    "    y_pred = lb.transform(y_pred)\n",
    "    return roc_auc_score(y_test, y_pred, average=average)"
   ]
  },
  {
   "cell_type": "code",
   "execution_count": 60,
   "metadata": {},
   "outputs": [
    {
     "data": {
      "text/plain": [
       "0.9800000551874856"
      ]
     },
     "execution_count": 60,
     "metadata": {},
     "output_type": "execute_result"
    }
   ],
   "source": [
    "multiclass_roc_auc_score(y_test, y_pred)"
   ]
  },
  {
   "cell_type": "code",
   "execution_count": 61,
   "metadata": {},
   "outputs": [
    {
     "data": {
      "text/plain": [
       "<matplotlib.axes._subplots.AxesSubplot at 0x17e4b61ca60>"
      ]
     },
     "execution_count": 61,
     "metadata": {},
     "output_type": "execute_result"
    },
    {
     "data": {
      "image/png": "[encoded data removed]",
      "text/plain": [
       "<Figure size 720x576 with 1 Axes>"
      ]
     },
     "metadata": {
      "needs_background": "light"
     },
     "output_type": "display_data"
    }
   ],
   "source": [
    "import scikitplot as skplt\n",
    "y_probas=clf.predict_proba(x_test)\n",
    "skplt.metrics.plot_roc(y_test, y_probas, figsize=(10, 8))"
   ]
  },
  {
   "cell_type": "code",
   "execution_count": null,
   "metadata": {},
   "outputs": [],
   "source": []
  },
  {
   "cell_type": "code",
   "execution_count": null,
   "metadata": {},
   "outputs": [],
   "source": []
  }
 ],
 "metadata": {
  "kernelspec": {
   "display_name": "Python 3",
   "language": "python",
   "name": "python3"
  },
  "language_info": {
   "codemirror_mode": {
    "name": "ipython",
    "version": 3
   },
   "file_extension": ".py",
   "mimetype": "text/x-python",
   "name": "python",
   "nbconvert_exporter": "python",
   "pygments_lexer": "ipython3",
   "version": "3.8.3"
  }
 },
 "nbformat": 4,
 "nbformat_minor": 4
}
